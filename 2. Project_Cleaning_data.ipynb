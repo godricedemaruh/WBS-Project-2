{
 "cells": [
  {
   "cell_type": "code",
   "execution_count": 1,
   "id": "ddc4da9d-98f9-44ee-bbb1-0e191575d5ff",
   "metadata": {},
   "outputs": [],
   "source": [
    "import pandas as pd"
   ]
  },
  {
   "cell_type": "code",
   "execution_count": 2,
   "id": "91d3c2e4-38dc-4592-a678-a1b97cb177cf",
   "metadata": {},
   "outputs": [],
   "source": [
    "# import glob"
   ]
  },
  {
   "cell_type": "code",
   "execution_count": 3,
   "id": "6a85bc37-1b8f-41ce-b554-2d40f960aa71",
   "metadata": {},
   "outputs": [],
   "source": [
    "# files = glob.glob(\"eniac-data-default/*.csv\")\n",
    " \n",
    "# df_list = []\n",
    "# for filename in files:\n",
    "#   data = pd.read_csv(filename)\n",
    "#   df_list.append(data)\n",
    " \n",
    "# df = pd.concat(df_list)"
   ]
  },
  {
   "cell_type": "code",
   "execution_count": 4,
   "id": "55e49f02-c786-4ba2-bf9c-71298dfef62c",
   "metadata": {},
   "outputs": [],
   "source": [
    "orders = pd.read_csv(\"eniac-data-default/orders.csv\")\n",
    "orderlines = pd.read_csv(\"eniac-data-default/orderlines.csv\")\n",
    "products = pd.read_csv(\"eniac-data-default/products.csv\")\n",
    "brands = pd.read_csv(\"eniac-data-default/brands.csv\")"
   ]
  },
  {
   "cell_type": "code",
   "execution_count": 5,
   "id": "2184b3f7-059c-47e9-a6fa-38ced7138925",
   "metadata": {},
   "outputs": [],
   "source": [
    "def start_pipeline(data):\n",
    "    return data.copy()"
   ]
  },
  {
   "cell_type": "code",
   "execution_count": 6,
   "id": "7fbf93ca-5aaa-4a84-ad97-6abfd113b383",
   "metadata": {},
   "outputs": [],
   "source": [
    "def check_info(data):\n",
    "    return data.info()\n",
    "\n",
    "def check_nan_value(data):\n",
    "    print('NaN-Values:', '\\n', data.isna().sum())\n",
    "\n",
    "def duplicates(data):\n",
    "    print('Duplicated:', data.duplicated().value_counts())\n",
    "\n",
    "def check_df(data):\n",
    "    return check_info(data), duplicates(data), check_nan_value(data)"
   ]
  },
  {
   "cell_type": "code",
   "execution_count": 7,
   "id": "305e159b-25fc-467c-97f6-087efe1cc599",
   "metadata": {},
   "outputs": [
    {
     "name": "stdout",
     "output_type": "stream",
     "text": [
      "<class 'pandas.core.frame.DataFrame'>\n",
      "RangeIndex: 226909 entries, 0 to 226908\n",
      "Data columns (total 4 columns):\n",
      " #   Column        Non-Null Count   Dtype  \n",
      "---  ------        --------------   -----  \n",
      " 0   order_id      226909 non-null  int64  \n",
      " 1   created_date  226909 non-null  object \n",
      " 2   total_paid    226904 non-null  float64\n",
      " 3   state         226909 non-null  object \n",
      "dtypes: float64(1), int64(1), object(2)\n",
      "memory usage: 6.9+ MB\n",
      "Duplicated: False    226909\n",
      "dtype: int64\n",
      "NaN-Values: \n",
      " order_id        0\n",
      "created_date    0\n",
      "total_paid      5\n",
      "state           0\n",
      "dtype: int64\n"
     ]
    },
    {
     "data": {
      "text/plain": [
       "(None, None, None)"
      ]
     },
     "execution_count": 7,
     "metadata": {},
     "output_type": "execute_result"
    }
   ],
   "source": [
    "check_df(orders)"
   ]
  },
  {
   "cell_type": "code",
   "execution_count": null,
   "id": "97aa5788-88d2-4b71-acbe-cdb58872d217",
   "metadata": {},
   "outputs": [],
   "source": []
  },
  {
   "cell_type": "markdown",
   "id": "df701f74-97cb-4acd-87e9-e4bdd3c90bcc",
   "metadata": {},
   "source": [
    "## orders pipeline"
   ]
  },
  {
   "cell_type": "code",
   "execution_count": 8,
   "id": "033ad510-a4be-4916-8f18-4f37fe970fad",
   "metadata": {},
   "outputs": [],
   "source": [
    "def set_types_o(data): \n",
    "    return data.assign(created_date = pd.to_datetime(data['created_date']))\n",
    "\n",
    "def remove_NaN_o(data):\n",
    "    return data.dropna().reset_index(drop=True)"
   ]
  },
  {
   "cell_type": "code",
   "execution_count": 9,
   "id": "494101ed-f9d4-4800-b8b9-9c6be6d9062e",
   "metadata": {},
   "outputs": [],
   "source": [
    "o_cl = (\n",
    "    orders\n",
    "    .pipe(start_pipeline)\n",
    "    .pipe(set_types_o)\n",
    "    .pipe(remove_NaN_o)\n",
    ")"
   ]
  },
  {
   "cell_type": "code",
   "execution_count": 10,
   "id": "b23b4d83-2b0a-43b7-8751-f4f50e344ed0",
   "metadata": {},
   "outputs": [
    {
     "name": "stdout",
     "output_type": "stream",
     "text": [
      "<class 'pandas.core.frame.DataFrame'>\n",
      "RangeIndex: 226904 entries, 0 to 226903\n",
      "Data columns (total 4 columns):\n",
      " #   Column        Non-Null Count   Dtype         \n",
      "---  ------        --------------   -----         \n",
      " 0   order_id      226904 non-null  int64         \n",
      " 1   created_date  226904 non-null  datetime64[ns]\n",
      " 2   total_paid    226904 non-null  float64       \n",
      " 3   state         226904 non-null  object        \n",
      "dtypes: datetime64[ns](1), float64(1), int64(1), object(1)\n",
      "memory usage: 6.9+ MB\n",
      "Duplicated: False    226904\n",
      "dtype: int64\n",
      "NaN-Values: \n",
      " order_id        0\n",
      "created_date    0\n",
      "total_paid      0\n",
      "state           0\n",
      "dtype: int64\n"
     ]
    },
    {
     "data": {
      "text/plain": [
       "(None, None, None)"
      ]
     },
     "execution_count": 10,
     "metadata": {},
     "output_type": "execute_result"
    }
   ],
   "source": [
    "check_df(o_cl)"
   ]
  },
  {
   "cell_type": "code",
   "execution_count": null,
   "id": "e3d364ec-3449-4b77-9dea-4efda094b093",
   "metadata": {},
   "outputs": [],
   "source": []
  },
  {
   "cell_type": "markdown",
   "id": "c7bb7f2e-4424-4f2b-ad95-0793ba990a64",
   "metadata": {},
   "source": [
    "## orderlines pipeline"
   ]
  },
  {
   "cell_type": "code",
   "execution_count": 11,
   "id": "07fc0900-5a73-4e91-829f-f653ba7f9522",
   "metadata": {},
   "outputs": [
    {
     "data": {
      "text/html": [
       "<div>\n",
       "<style scoped>\n",
       "    .dataframe tbody tr th:only-of-type {\n",
       "        vertical-align: middle;\n",
       "    }\n",
       "\n",
       "    .dataframe tbody tr th {\n",
       "        vertical-align: top;\n",
       "    }\n",
       "\n",
       "    .dataframe thead th {\n",
       "        text-align: right;\n",
       "    }\n",
       "</style>\n",
       "<table border=\"1\" class=\"dataframe\">\n",
       "  <thead>\n",
       "    <tr style=\"text-align: right;\">\n",
       "      <th></th>\n",
       "      <th>id</th>\n",
       "      <th>id_order</th>\n",
       "      <th>product_id</th>\n",
       "      <th>product_quantity</th>\n",
       "      <th>sku</th>\n",
       "      <th>unit_price</th>\n",
       "      <th>date</th>\n",
       "    </tr>\n",
       "  </thead>\n",
       "  <tbody>\n",
       "    <tr>\n",
       "      <th>154144</th>\n",
       "      <td>1423665</td>\n",
       "      <td>432777</td>\n",
       "      <td>0</td>\n",
       "      <td>1</td>\n",
       "      <td>SNS0025</td>\n",
       "      <td>679.00</td>\n",
       "      <td>2017-11-22 23:55:47</td>\n",
       "    </tr>\n",
       "    <tr>\n",
       "      <th>280410</th>\n",
       "      <td>1629335</td>\n",
       "      <td>518449</td>\n",
       "      <td>0</td>\n",
       "      <td>1</td>\n",
       "      <td>ALL0022</td>\n",
       "      <td>18.99</td>\n",
       "      <td>2018-02-27 20:56:07</td>\n",
       "    </tr>\n",
       "    <tr>\n",
       "      <th>132544</th>\n",
       "      <td>1380814</td>\n",
       "      <td>413896</td>\n",
       "      <td>0</td>\n",
       "      <td>1</td>\n",
       "      <td>KEN0208</td>\n",
       "      <td>39.99</td>\n",
       "      <td>2017-10-18 11:50:19</td>\n",
       "    </tr>\n",
       "    <tr>\n",
       "      <th>7268</th>\n",
       "      <td>1138443</td>\n",
       "      <td>306215</td>\n",
       "      <td>0</td>\n",
       "      <td>1</td>\n",
       "      <td>JBL0124</td>\n",
       "      <td>89.99</td>\n",
       "      <td>2017-01-10 01:06:55</td>\n",
       "    </tr>\n",
       "    <tr>\n",
       "      <th>200955</th>\n",
       "      <td>1494462</td>\n",
       "      <td>462090</td>\n",
       "      <td>0</td>\n",
       "      <td>1</td>\n",
       "      <td>PAC2211</td>\n",
       "      <td>730.18</td>\n",
       "      <td>2017-12-13 18:21:19</td>\n",
       "    </tr>\n",
       "    <tr>\n",
       "      <th>225480</th>\n",
       "      <td>1539925</td>\n",
       "      <td>482944</td>\n",
       "      <td>0</td>\n",
       "      <td>2</td>\n",
       "      <td>OWC0256</td>\n",
       "      <td>17.09</td>\n",
       "      <td>2018-01-05 13:33:26</td>\n",
       "    </tr>\n",
       "    <tr>\n",
       "      <th>235095</th>\n",
       "      <td>1555905</td>\n",
       "      <td>489043</td>\n",
       "      <td>0</td>\n",
       "      <td>1</td>\n",
       "      <td>APP1216</td>\n",
       "      <td>130.00</td>\n",
       "      <td>2018-01-12 00:22:02</td>\n",
       "    </tr>\n",
       "    <tr>\n",
       "      <th>810</th>\n",
       "      <td>1120654</td>\n",
       "      <td>300296</td>\n",
       "      <td>0</td>\n",
       "      <td>1</td>\n",
       "      <td>WDT0374</td>\n",
       "      <td>261.99</td>\n",
       "      <td>2017-01-02 09:35:57</td>\n",
       "    </tr>\n",
       "    <tr>\n",
       "      <th>156450</th>\n",
       "      <td>1427638</td>\n",
       "      <td>434404</td>\n",
       "      <td>0</td>\n",
       "      <td>1</td>\n",
       "      <td>SPE0191</td>\n",
       "      <td>33.99</td>\n",
       "      <td>2017-11-23 13:17:35</td>\n",
       "    </tr>\n",
       "    <tr>\n",
       "      <th>58653</th>\n",
       "      <td>1236423</td>\n",
       "      <td>350147</td>\n",
       "      <td>0</td>\n",
       "      <td>1</td>\n",
       "      <td>NTE0054</td>\n",
       "      <td>22.99</td>\n",
       "      <td>2017-04-26 21:17:55</td>\n",
       "    </tr>\n",
       "  </tbody>\n",
       "</table>\n",
       "</div>"
      ],
      "text/plain": [
       "             id  id_order  product_id  product_quantity      sku unit_price  \\\n",
       "154144  1423665    432777           0                 1  SNS0025     679.00   \n",
       "280410  1629335    518449           0                 1  ALL0022      18.99   \n",
       "132544  1380814    413896           0                 1  KEN0208      39.99   \n",
       "7268    1138443    306215           0                 1  JBL0124      89.99   \n",
       "200955  1494462    462090           0                 1  PAC2211     730.18   \n",
       "225480  1539925    482944           0                 2  OWC0256      17.09   \n",
       "235095  1555905    489043           0                 1  APP1216     130.00   \n",
       "810     1120654    300296           0                 1  WDT0374     261.99   \n",
       "156450  1427638    434404           0                 1  SPE0191      33.99   \n",
       "58653   1236423    350147           0                 1  NTE0054      22.99   \n",
       "\n",
       "                       date  \n",
       "154144  2017-11-22 23:55:47  \n",
       "280410  2018-02-27 20:56:07  \n",
       "132544  2017-10-18 11:50:19  \n",
       "7268    2017-01-10 01:06:55  \n",
       "200955  2017-12-13 18:21:19  \n",
       "225480  2018-01-05 13:33:26  \n",
       "235095  2018-01-12 00:22:02  \n",
       "810     2017-01-02 09:35:57  \n",
       "156450  2017-11-23 13:17:35  \n",
       "58653   2017-04-26 21:17:55  "
      ]
     },
     "execution_count": 11,
     "metadata": {},
     "output_type": "execute_result"
    }
   ],
   "source": [
    "orderlines.sample(10)"
   ]
  },
  {
   "cell_type": "code",
   "execution_count": 12,
   "id": "846d1a21-4c8f-4b70-bc7f-fac50d189ecf",
   "metadata": {},
   "outputs": [],
   "source": [
    "def rename_id_o(data):\n",
    "    return data.rename(columns={'id_order':'order_id'})\n",
    "\n",
    "def set_types_ol(data): \n",
    "    return data.assign(date = pd.to_datetime(data['date']))\n",
    "\n",
    "def remove_dots(data):\n",
    "    return data.assign(price_nd = data['unit_price'].str.replace('\\.','', regex=True))\n",
    "\n",
    "def split_price(data):\n",
    "    return (data\n",
    "        .assign(euro = data['price_nd'].str[:-2])\n",
    "        .assign(cent = data['price_nd'].str[-2:])\n",
    "    )\n",
    "\n",
    "def merge_price(data):\n",
    "    return data.assign(price_per_unit = data['euro'] + '.' + data['cent'])\n",
    "\n",
    "def set_type_price(data): \n",
    "    return data.assign(price_per_unit = pd.to_numeric(data['price_per_unit']))\n",
    "\n",
    "def drop_unrelevant_ol(data):\n",
    "    return data.drop(columns = {'unit_price', 'price_nd', 'euro', 'cent', 'product_id', 'id'})\n",
    "\n",
    "def rename_price(data):\n",
    "    return data.rename(columns={'price_per_unit':'unit_price'})"
   ]
  },
  {
   "cell_type": "code",
   "execution_count": 13,
   "id": "77d2184f-61bf-4d9e-9338-3eee5b4e0a24",
   "metadata": {},
   "outputs": [],
   "source": [
    "ol_cl=(\n",
    "orderlines\n",
    "    .pipe(start_pipeline)\n",
    "    .pipe(rename_id_o)\n",
    "    .pipe(set_types_ol)\n",
    "    .pipe(remove_dots)\n",
    "    .pipe(split_price)\n",
    "    .pipe(merge_price)\n",
    "    .pipe(set_type_price)\n",
    "    .pipe(drop_unrelevant_ol)\n",
    "    .pipe(rename_price)\n",
    ")\n"
   ]
  },
  {
   "cell_type": "code",
   "execution_count": 14,
   "id": "6028b89e-d21b-4f8d-b326-2e3da3c9b5d1",
   "metadata": {},
   "outputs": [
    {
     "name": "stdout",
     "output_type": "stream",
     "text": [
      "<class 'pandas.core.frame.DataFrame'>\n",
      "RangeIndex: 293983 entries, 0 to 293982\n",
      "Data columns (total 5 columns):\n",
      " #   Column            Non-Null Count   Dtype         \n",
      "---  ------            --------------   -----         \n",
      " 0   order_id          293983 non-null  int64         \n",
      " 1   product_quantity  293983 non-null  int64         \n",
      " 2   sku               293983 non-null  object        \n",
      " 3   date              293983 non-null  datetime64[ns]\n",
      " 4   unit_price        293983 non-null  float64       \n",
      "dtypes: datetime64[ns](1), float64(1), int64(2), object(1)\n",
      "memory usage: 11.2+ MB\n",
      "Duplicated: False    293983\n",
      "dtype: int64\n",
      "NaN-Values: \n",
      " order_id            0\n",
      "product_quantity    0\n",
      "sku                 0\n",
      "date                0\n",
      "unit_price          0\n",
      "dtype: int64\n"
     ]
    },
    {
     "data": {
      "text/plain": [
       "(None, None, None)"
      ]
     },
     "execution_count": 14,
     "metadata": {},
     "output_type": "execute_result"
    }
   ],
   "source": [
    "check_df(ol_cl)"
   ]
  },
  {
   "cell_type": "code",
   "execution_count": null,
   "id": "628743a5-0bfa-4e4f-9059-3024fa99bead",
   "metadata": {},
   "outputs": [],
   "source": []
  },
  {
   "cell_type": "markdown",
   "id": "92254ddd-69f1-4ec8-bd43-82593a1f1d7d",
   "metadata": {},
   "source": [
    "## products pipeline"
   ]
  },
  {
   "cell_type": "code",
   "execution_count": 15,
   "id": "b7e6a11b-87cc-4e0a-896c-01ae86f2d931",
   "metadata": {},
   "outputs": [
    {
     "name": "stdout",
     "output_type": "stream",
     "text": [
      "<class 'pandas.core.frame.DataFrame'>\n",
      "RangeIndex: 19326 entries, 0 to 19325\n",
      "Data columns (total 7 columns):\n",
      " #   Column       Non-Null Count  Dtype \n",
      "---  ------       --------------  ----- \n",
      " 0   sku          19326 non-null  object\n",
      " 1   name         19326 non-null  object\n",
      " 2   desc         19319 non-null  object\n",
      " 3   price        19280 non-null  object\n",
      " 4   promo_price  19326 non-null  object\n",
      " 5   in_stock     19326 non-null  int64 \n",
      " 6   type         19276 non-null  object\n",
      "dtypes: int64(1), object(6)\n",
      "memory usage: 1.0+ MB\n",
      "Duplicated: False    10580\n",
      "True      8746\n",
      "dtype: int64\n",
      "NaN-Values: \n",
      " sku             0\n",
      "name            0\n",
      "desc            7\n",
      "price          46\n",
      "promo_price     0\n",
      "in_stock        0\n",
      "type           50\n",
      "dtype: int64\n"
     ]
    },
    {
     "data": {
      "text/plain": [
       "(None, None, None)"
      ]
     },
     "execution_count": 15,
     "metadata": {},
     "output_type": "execute_result"
    }
   ],
   "source": [
    "check_df(products)"
   ]
  },
  {
   "cell_type": "code",
   "execution_count": 16,
   "id": "cb79e1e8-9dc1-40e2-b3bf-464caeac7e40",
   "metadata": {},
   "outputs": [],
   "source": [
    "def drop_unrelevant(data):\n",
    "    return data.drop(columns = {'in_stock', 'type'})\n",
    "\n",
    "def drop_duplicates(data):\n",
    "    return data.drop_duplicates().reset_index(drop=True)\n",
    "\n",
    "def clean_prices(data):\n",
    "    data.price = data.price.apply(lambda x : x +'.00' if x.count('.') == 0 else x)\n",
    "    data.price = data.price.apply(lambda x: x  + '0' if x[-2]=='.' else x)\n",
    "    data.price = data.price.apply(lambda x: str(float(x.replace('.',''))/1000) if ((x[-4]=='.') & (x.count('.')==2)) else x)\n",
    "    data.price = data.price.apply(lambda x: str(float(x.replace('.',''))/10000) if ((x[-4]=='.') & (x.count('.')==1)) else x)\n",
    "    data.price = data.price.astype(float)\n",
    "    data.price = data.price.round(decimals = 2)\n",
    "    return data\n",
    "\n",
    "def clean_promo_price(data):\n",
    "    data.promo_price = data.promo_price.apply(lambda x : x +'.00' if x.count('.') == 0 else x)\n",
    "    data.promo_price = data.promo_price.apply(lambda x: x  + '0' if x[-2]=='.' else x)\n",
    "    data.promo_price = data.promo_price.apply(lambda x: str(float(x.replace('.',''))/1000) if ((x[-4]=='.') & (x.count('.')==1)) else x)\n",
    "    data.promo_price = data.promo_price.apply(lambda x: str(float(x.replace('.',''))/10000) if ((x[-4]=='.') & (x.count('.')==2)) else x)\n",
    "    data.promo_price = data.promo_price.astype(float)\n",
    "    data.promo_price = data.promo_price.round(decimals = 2)\n",
    "    return data\n",
    "\n",
    "def correct_promo_price(data, col1, col2): \n",
    "    for i in col1:\n",
    "        for j in col2:\n",
    "            if i < j: \n",
    "                data[j] = data[j].apply(lambda x: x/10)\n",
    "                if i < j:\n",
    "                    data[j] = data[j].apply(lambda x: x/10)\n",
    "            data[j] = data[j].round(decimals = 2)\n",
    "        return data\n"
   ]
  },
  {
   "cell_type": "code",
   "execution_count": 17,
   "id": "632f8a2f-f80d-4daf-9eff-6493ba7c3bf1",
   "metadata": {},
   "outputs": [],
   "source": [
    "p_cl = (\n",
    "products\n",
    "    .pipe(start_pipeline)\n",
    "    .pipe(remove_NaN_o)\n",
    "    .pipe(drop_unrelevant)\n",
    "    .pipe(drop_duplicates)\n",
    "    .pipe(clean_prices)\n",
    "    .pipe(clean_promo_price)\n",
    "#     .pipe(correct_promo_price, ['price'], ['promo_price'])\n",
    ")"
   ]
  },
  {
   "cell_type": "code",
   "execution_count": 18,
   "id": "7083955e-8e18-4881-97af-4ac045c0fcd4",
   "metadata": {},
   "outputs": [
    {
     "data": {
      "text/plain": [
       "sku                                                     NTE0082\n",
       "name                NewerTech NuCube stand upright for Mac Mini\n",
       "desc           Protective stand for Mac Mini from 2010 to 2014.\n",
       "price                                                     60.99\n",
       "promo_price                                               44.99\n",
       "Name: 1488, dtype: object"
      ]
     },
     "execution_count": 18,
     "metadata": {},
     "output_type": "execute_result"
    }
   ],
   "source": [
    "p_cl.iloc[1488]"
   ]
  },
  {
   "cell_type": "markdown",
   "id": "c7fe7f53-a702-4c4d-999e-f35b4e8eca96",
   "metadata": {},
   "source": [
    "#### check if order_id from ol_cl in o_cl"
   ]
  },
  {
   "cell_type": "code",
   "execution_count": 19,
   "id": "359d21d1-9cf7-40e8-aee2-f246cc12b7b3",
   "metadata": {},
   "outputs": [
    {
     "data": {
      "text/plain": [
       "293743"
      ]
     },
     "execution_count": 19,
     "metadata": {},
     "output_type": "execute_result"
    }
   ],
   "source": [
    "(\n",
    "ol_cl\n",
    "    .assign(check_orders = ol_cl['order_id'].isin(o_cl['order_id']))\n",
    ")['check_orders'].sum()"
   ]
  },
  {
   "cell_type": "code",
   "execution_count": 20,
   "id": "8c1f22df-f09a-4f51-b998-0002916b2187",
   "metadata": {},
   "outputs": [
    {
     "data": {
      "text/html": [
       "<div>\n",
       "<style scoped>\n",
       "    .dataframe tbody tr th:only-of-type {\n",
       "        vertical-align: middle;\n",
       "    }\n",
       "\n",
       "    .dataframe tbody tr th {\n",
       "        vertical-align: top;\n",
       "    }\n",
       "\n",
       "    .dataframe thead th {\n",
       "        text-align: right;\n",
       "    }\n",
       "</style>\n",
       "<table border=\"1\" class=\"dataframe\">\n",
       "  <thead>\n",
       "    <tr style=\"text-align: right;\">\n",
       "      <th></th>\n",
       "      <th>order_id</th>\n",
       "      <th>product_quantity</th>\n",
       "      <th>sku</th>\n",
       "      <th>date</th>\n",
       "      <th>unit_price</th>\n",
       "      <th>check_orders</th>\n",
       "    </tr>\n",
       "  </thead>\n",
       "  <tbody>\n",
       "    <tr>\n",
       "      <th>5</th>\n",
       "      <td>295310</td>\n",
       "      <td>10</td>\n",
       "      <td>WDT0249</td>\n",
       "      <td>2017-01-01 01:14:27</td>\n",
       "      <td>231.79</td>\n",
       "      <td>False</td>\n",
       "    </tr>\n",
       "    <tr>\n",
       "      <th>63</th>\n",
       "      <td>296284</td>\n",
       "      <td>1</td>\n",
       "      <td>BNQ0042</td>\n",
       "      <td>2017-01-01 09:58:35</td>\n",
       "      <td>699.00</td>\n",
       "      <td>False</td>\n",
       "    </tr>\n",
       "    <tr>\n",
       "      <th>67</th>\n",
       "      <td>294806</td>\n",
       "      <td>1</td>\n",
       "      <td>APP1849</td>\n",
       "      <td>2017-01-01 10:09:15</td>\n",
       "      <td>2558.99</td>\n",
       "      <td>False</td>\n",
       "    </tr>\n",
       "    <tr>\n",
       "      <th>69</th>\n",
       "      <td>294806</td>\n",
       "      <td>1</td>\n",
       "      <td>APP1864</td>\n",
       "      <td>2017-01-01 10:15:14</td>\n",
       "      <td>2797.99</td>\n",
       "      <td>False</td>\n",
       "    </tr>\n",
       "    <tr>\n",
       "      <th>70</th>\n",
       "      <td>297261</td>\n",
       "      <td>1</td>\n",
       "      <td>QNA0177</td>\n",
       "      <td>2017-01-01 10:17:59</td>\n",
       "      <td>304.99</td>\n",
       "      <td>False</td>\n",
       "    </tr>\n",
       "    <tr>\n",
       "      <th>...</th>\n",
       "      <td>...</td>\n",
       "      <td>...</td>\n",
       "      <td>...</td>\n",
       "      <td>...</td>\n",
       "      <td>...</td>\n",
       "      <td>...</td>\n",
       "    </tr>\n",
       "    <tr>\n",
       "      <th>275665</th>\n",
       "      <td>244328</td>\n",
       "      <td>1</td>\n",
       "      <td>OWC0260</td>\n",
       "      <td>2018-02-20 13:00:45</td>\n",
       "      <td>349.00</td>\n",
       "      <td>False</td>\n",
       "    </tr>\n",
       "    <tr>\n",
       "      <th>280055</th>\n",
       "      <td>261391</td>\n",
       "      <td>1</td>\n",
       "      <td>APP2352</td>\n",
       "      <td>2018-02-27 11:43:25</td>\n",
       "      <td>3343.00</td>\n",
       "      <td>False</td>\n",
       "    </tr>\n",
       "    <tr>\n",
       "      <th>280352</th>\n",
       "      <td>287797</td>\n",
       "      <td>1</td>\n",
       "      <td>SYN0182</td>\n",
       "      <td>2018-02-27 19:16:26</td>\n",
       "      <td>484.11</td>\n",
       "      <td>False</td>\n",
       "    </tr>\n",
       "    <tr>\n",
       "      <th>280856</th>\n",
       "      <td>261391</td>\n",
       "      <td>1</td>\n",
       "      <td>SAT0091</td>\n",
       "      <td>2018-02-28 12:18:26</td>\n",
       "      <td>44.99</td>\n",
       "      <td>False</td>\n",
       "    </tr>\n",
       "    <tr>\n",
       "      <th>280869</th>\n",
       "      <td>261391</td>\n",
       "      <td>1</td>\n",
       "      <td>SAT0062</td>\n",
       "      <td>2018-02-28 12:30:57</td>\n",
       "      <td>49.99</td>\n",
       "      <td>False</td>\n",
       "    </tr>\n",
       "  </tbody>\n",
       "</table>\n",
       "<p>240 rows × 6 columns</p>\n",
       "</div>"
      ],
      "text/plain": [
       "        order_id  product_quantity      sku                date  unit_price  \\\n",
       "5         295310                10  WDT0249 2017-01-01 01:14:27      231.79   \n",
       "63        296284                 1  BNQ0042 2017-01-01 09:58:35      699.00   \n",
       "67        294806                 1  APP1849 2017-01-01 10:09:15     2558.99   \n",
       "69        294806                 1  APP1864 2017-01-01 10:15:14     2797.99   \n",
       "70        297261                 1  QNA0177 2017-01-01 10:17:59      304.99   \n",
       "...          ...               ...      ...                 ...         ...   \n",
       "275665    244328                 1  OWC0260 2018-02-20 13:00:45      349.00   \n",
       "280055    261391                 1  APP2352 2018-02-27 11:43:25     3343.00   \n",
       "280352    287797                 1  SYN0182 2018-02-27 19:16:26      484.11   \n",
       "280856    261391                 1  SAT0091 2018-02-28 12:18:26       44.99   \n",
       "280869    261391                 1  SAT0062 2018-02-28 12:30:57       49.99   \n",
       "\n",
       "        check_orders  \n",
       "5              False  \n",
       "63             False  \n",
       "67             False  \n",
       "69             False  \n",
       "70             False  \n",
       "...              ...  \n",
       "275665         False  \n",
       "280055         False  \n",
       "280352         False  \n",
       "280856         False  \n",
       "280869         False  \n",
       "\n",
       "[240 rows x 6 columns]"
      ]
     },
     "execution_count": 20,
     "metadata": {},
     "output_type": "execute_result"
    }
   ],
   "source": [
    "(\n",
    "ol_cl\n",
    "    .assign(check_orders = ol_cl['order_id'].isin(o_cl['order_id']))\n",
    "    .query(\"check_orders==False\")\n",
    ")"
   ]
  },
  {
   "cell_type": "markdown",
   "id": "b6809190-2760-47d0-b28c-8b789b84c036",
   "metadata": {},
   "source": [
    "#### correction"
   ]
  },
  {
   "cell_type": "code",
   "execution_count": 21,
   "id": "c6cce59e-e1f0-4e34-ab65-a890119098dd",
   "metadata": {},
   "outputs": [],
   "source": [
    "ol_cl = (\n",
    "ol_cl\n",
    "    .assign(check_orders = ol_cl['order_id'].isin(o_cl['order_id']))\n",
    "    .query(\"check_orders==True\")\n",
    ")"
   ]
  },
  {
   "cell_type": "code",
   "execution_count": 22,
   "id": "ecba2116-5008-4656-98f0-a8d17c0a5528",
   "metadata": {},
   "outputs": [],
   "source": [
    "ol_cl = ol_cl.drop(columns = {\"check_orders\"})"
   ]
  },
  {
   "cell_type": "markdown",
   "id": "949acc9a-e031-4d79-917b-37dbe228fc36",
   "metadata": {},
   "source": [
    "#### check if order_id from o_cl in ol_cl"
   ]
  },
  {
   "cell_type": "code",
   "execution_count": 23,
   "id": "bd353a45-10d4-48c0-a5ea-9fbf3d879d8a",
   "metadata": {},
   "outputs": [
    {
     "data": {
      "text/plain": [
       "204691"
      ]
     },
     "execution_count": 23,
     "metadata": {},
     "output_type": "execute_result"
    }
   ],
   "source": [
    "(\n",
    "o_cl\n",
    "    .assign(check_orders = o_cl['order_id'].isin(ol_cl['order_id']))\n",
    ")['check_orders'].sum()"
   ]
  },
  {
   "cell_type": "code",
   "execution_count": 24,
   "id": "e4b93e0d-1daa-4c8f-aa37-eccfc6a3cb0f",
   "metadata": {},
   "outputs": [
    {
     "data": {
      "text/html": [
       "<div>\n",
       "<style scoped>\n",
       "    .dataframe tbody tr th:only-of-type {\n",
       "        vertical-align: middle;\n",
       "    }\n",
       "\n",
       "    .dataframe tbody tr th {\n",
       "        vertical-align: top;\n",
       "    }\n",
       "\n",
       "    .dataframe thead th {\n",
       "        text-align: right;\n",
       "    }\n",
       "</style>\n",
       "<table border=\"1\" class=\"dataframe\">\n",
       "  <thead>\n",
       "    <tr style=\"text-align: right;\">\n",
       "      <th></th>\n",
       "      <th>order_id</th>\n",
       "      <th>created_date</th>\n",
       "      <th>total_paid</th>\n",
       "      <th>state</th>\n",
       "      <th>check_orders</th>\n",
       "    </tr>\n",
       "  </thead>\n",
       "  <tbody>\n",
       "    <tr>\n",
       "      <th>8</th>\n",
       "      <td>245941</td>\n",
       "      <td>2017-01-01 10:32:23</td>\n",
       "      <td>183.52</td>\n",
       "      <td>Completed</td>\n",
       "      <td>False</td>\n",
       "    </tr>\n",
       "    <tr>\n",
       "      <th>65</th>\n",
       "      <td>268629</td>\n",
       "      <td>2017-01-31 11:27:25</td>\n",
       "      <td>73.23</td>\n",
       "      <td>Completed</td>\n",
       "      <td>False</td>\n",
       "    </tr>\n",
       "    <tr>\n",
       "      <th>75</th>\n",
       "      <td>272862</td>\n",
       "      <td>2017-04-18 18:17:10</td>\n",
       "      <td>128.99</td>\n",
       "      <td>Pending</td>\n",
       "      <td>False</td>\n",
       "    </tr>\n",
       "    <tr>\n",
       "      <th>82</th>\n",
       "      <td>277655</td>\n",
       "      <td>2017-02-01 08:44:55</td>\n",
       "      <td>9.99</td>\n",
       "      <td>Pending</td>\n",
       "      <td>False</td>\n",
       "    </tr>\n",
       "    <tr>\n",
       "      <th>83</th>\n",
       "      <td>277994</td>\n",
       "      <td>2017-01-23 18:30:11</td>\n",
       "      <td>52.99</td>\n",
       "      <td>Completed</td>\n",
       "      <td>False</td>\n",
       "    </tr>\n",
       "    <tr>\n",
       "      <th>...</th>\n",
       "      <td>...</td>\n",
       "      <td>...</td>\n",
       "      <td>...</td>\n",
       "      <td>...</td>\n",
       "      <td>...</td>\n",
       "    </tr>\n",
       "    <tr>\n",
       "      <th>226830</th>\n",
       "      <td>527328</td>\n",
       "      <td>2018-03-14 13:14:12</td>\n",
       "      <td>0.00</td>\n",
       "      <td>Shopping Basket</td>\n",
       "      <td>False</td>\n",
       "    </tr>\n",
       "    <tr>\n",
       "      <th>226846</th>\n",
       "      <td>527344</td>\n",
       "      <td>2018-03-14 13:25:21</td>\n",
       "      <td>0.00</td>\n",
       "      <td>Place Order</td>\n",
       "      <td>False</td>\n",
       "    </tr>\n",
       "    <tr>\n",
       "      <th>226848</th>\n",
       "      <td>527346</td>\n",
       "      <td>2018-03-14 13:26:14</td>\n",
       "      <td>0.00</td>\n",
       "      <td>Place Order</td>\n",
       "      <td>False</td>\n",
       "    </tr>\n",
       "    <tr>\n",
       "      <th>226850</th>\n",
       "      <td>527348</td>\n",
       "      <td>2018-03-14 13:28:18</td>\n",
       "      <td>0.00</td>\n",
       "      <td>Place Order</td>\n",
       "      <td>False</td>\n",
       "    </tr>\n",
       "    <tr>\n",
       "      <th>226884</th>\n",
       "      <td>527382</td>\n",
       "      <td>2018-03-14 13:47:43</td>\n",
       "      <td>0.00</td>\n",
       "      <td>Shopping Basket</td>\n",
       "      <td>False</td>\n",
       "    </tr>\n",
       "  </tbody>\n",
       "</table>\n",
       "<p>22213 rows × 5 columns</p>\n",
       "</div>"
      ],
      "text/plain": [
       "        order_id        created_date  total_paid            state  \\\n",
       "8         245941 2017-01-01 10:32:23      183.52        Completed   \n",
       "65        268629 2017-01-31 11:27:25       73.23        Completed   \n",
       "75        272862 2017-04-18 18:17:10      128.99          Pending   \n",
       "82        277655 2017-02-01 08:44:55        9.99          Pending   \n",
       "83        277994 2017-01-23 18:30:11       52.99        Completed   \n",
       "...          ...                 ...         ...              ...   \n",
       "226830    527328 2018-03-14 13:14:12        0.00  Shopping Basket   \n",
       "226846    527344 2018-03-14 13:25:21        0.00      Place Order   \n",
       "226848    527346 2018-03-14 13:26:14        0.00      Place Order   \n",
       "226850    527348 2018-03-14 13:28:18        0.00      Place Order   \n",
       "226884    527382 2018-03-14 13:47:43        0.00  Shopping Basket   \n",
       "\n",
       "        check_orders  \n",
       "8              False  \n",
       "65             False  \n",
       "75             False  \n",
       "82             False  \n",
       "83             False  \n",
       "...              ...  \n",
       "226830         False  \n",
       "226846         False  \n",
       "226848         False  \n",
       "226850         False  \n",
       "226884         False  \n",
       "\n",
       "[22213 rows x 5 columns]"
      ]
     },
     "execution_count": 24,
     "metadata": {},
     "output_type": "execute_result"
    }
   ],
   "source": [
    "(\n",
    "o_cl\n",
    "    .assign(check_orders = o_cl['order_id'].isin(ol_cl['order_id']))\n",
    "    .query(\"check_orders==False\")\n",
    ")"
   ]
  },
  {
   "cell_type": "markdown",
   "id": "7e0800fe-f10b-4bd9-b0af-8ea16f72e9f1",
   "metadata": {},
   "source": [
    "#### correction"
   ]
  },
  {
   "cell_type": "code",
   "execution_count": 25,
   "id": "697834ce-c8a5-45dd-b86c-abf655bfb44f",
   "metadata": {},
   "outputs": [],
   "source": [
    "o_cl = (\n",
    "o_cl\n",
    "    .assign(check_orders = o_cl['order_id'].isin(ol_cl['order_id']))\n",
    "    .query(\"check_orders==True\")\n",
    ")"
   ]
  },
  {
   "cell_type": "code",
   "execution_count": 26,
   "id": "9d294656-39b5-49ee-b9c4-da9aa1427e9f",
   "metadata": {},
   "outputs": [],
   "source": [
    "o_cl = o_cl.drop(columns = {\"check_orders\"})"
   ]
  },
  {
   "cell_type": "markdown",
   "id": "016a166d-0887-4ace-97a4-676e54045403",
   "metadata": {},
   "source": [
    "#### check if sku from ol_cl in p_cl"
   ]
  },
  {
   "cell_type": "code",
   "execution_count": 27,
   "id": "2ca01072-3a89-4392-b65a-4f9d186bed28",
   "metadata": {},
   "outputs": [
    {
     "data": {
      "text/plain": [
       "292008"
      ]
     },
     "execution_count": 27,
     "metadata": {},
     "output_type": "execute_result"
    }
   ],
   "source": [
    "(\n",
    "ol_cl\n",
    "    .assign(check_sku = ol_cl['sku'].isin(p_cl['sku']))\n",
    ")['check_sku'].sum()"
   ]
  },
  {
   "cell_type": "code",
   "execution_count": 28,
   "id": "4f080b1a-3362-484c-a50d-81db8d4d29af",
   "metadata": {},
   "outputs": [
    {
     "data": {
      "text/html": [
       "<div>\n",
       "<style scoped>\n",
       "    .dataframe tbody tr th:only-of-type {\n",
       "        vertical-align: middle;\n",
       "    }\n",
       "\n",
       "    .dataframe tbody tr th {\n",
       "        vertical-align: top;\n",
       "    }\n",
       "\n",
       "    .dataframe thead th {\n",
       "        text-align: right;\n",
       "    }\n",
       "</style>\n",
       "<table border=\"1\" class=\"dataframe\">\n",
       "  <thead>\n",
       "    <tr style=\"text-align: right;\">\n",
       "      <th></th>\n",
       "      <th>order_id</th>\n",
       "      <th>product_quantity</th>\n",
       "      <th>sku</th>\n",
       "      <th>date</th>\n",
       "      <th>unit_price</th>\n",
       "      <th>check_sku</th>\n",
       "    </tr>\n",
       "  </thead>\n",
       "  <tbody>\n",
       "    <tr>\n",
       "      <th>117</th>\n",
       "      <td>299638</td>\n",
       "      <td>1</td>\n",
       "      <td>SYN0127</td>\n",
       "      <td>2017-01-01 11:56:18</td>\n",
       "      <td>223.24</td>\n",
       "      <td>False</td>\n",
       "    </tr>\n",
       "    <tr>\n",
       "      <th>192</th>\n",
       "      <td>299706</td>\n",
       "      <td>1</td>\n",
       "      <td>EVU0007</td>\n",
       "      <td>2017-01-01 13:57:16</td>\n",
       "      <td>28.49</td>\n",
       "      <td>False</td>\n",
       "    </tr>\n",
       "    <tr>\n",
       "      <th>198</th>\n",
       "      <td>299712</td>\n",
       "      <td>1</td>\n",
       "      <td>APP0608</td>\n",
       "      <td>2017-01-01 14:10:47</td>\n",
       "      <td>279.99</td>\n",
       "      <td>False</td>\n",
       "    </tr>\n",
       "    <tr>\n",
       "      <th>253</th>\n",
       "      <td>299766</td>\n",
       "      <td>1</td>\n",
       "      <td>APP0607</td>\n",
       "      <td>2017-01-01 16:09:02</td>\n",
       "      <td>279.99</td>\n",
       "      <td>False</td>\n",
       "    </tr>\n",
       "    <tr>\n",
       "      <th>285</th>\n",
       "      <td>299799</td>\n",
       "      <td>1</td>\n",
       "      <td>APP0608</td>\n",
       "      <td>2017-01-01 17:09:18</td>\n",
       "      <td>279.99</td>\n",
       "      <td>False</td>\n",
       "    </tr>\n",
       "    <tr>\n",
       "      <th>...</th>\n",
       "      <td>...</td>\n",
       "      <td>...</td>\n",
       "      <td>...</td>\n",
       "      <td>...</td>\n",
       "      <td>...</td>\n",
       "      <td>...</td>\n",
       "    </tr>\n",
       "    <tr>\n",
       "      <th>283903</th>\n",
       "      <td>521165</td>\n",
       "      <td>1</td>\n",
       "      <td>CEL0044</td>\n",
       "      <td>2018-03-05 07:35:33</td>\n",
       "      <td>7.99</td>\n",
       "      <td>False</td>\n",
       "    </tr>\n",
       "    <tr>\n",
       "      <th>285011</th>\n",
       "      <td>521667</td>\n",
       "      <td>1</td>\n",
       "      <td>CEL0044</td>\n",
       "      <td>2018-03-05 13:39:35</td>\n",
       "      <td>7.99</td>\n",
       "      <td>False</td>\n",
       "    </tr>\n",
       "    <tr>\n",
       "      <th>291946</th>\n",
       "      <td>525658</td>\n",
       "      <td>1</td>\n",
       "      <td>DOD0010</td>\n",
       "      <td>2018-03-11 22:37:54</td>\n",
       "      <td>21.99</td>\n",
       "      <td>False</td>\n",
       "    </tr>\n",
       "    <tr>\n",
       "      <th>291957</th>\n",
       "      <td>525670</td>\n",
       "      <td>1</td>\n",
       "      <td>DOD0010</td>\n",
       "      <td>2018-03-11 22:54:41</td>\n",
       "      <td>21.99</td>\n",
       "      <td>False</td>\n",
       "    </tr>\n",
       "    <tr>\n",
       "      <th>293648</th>\n",
       "      <td>527099</td>\n",
       "      <td>2</td>\n",
       "      <td>CAL0010</td>\n",
       "      <td>2018-03-14 11:54:58</td>\n",
       "      <td>299.99</td>\n",
       "      <td>False</td>\n",
       "    </tr>\n",
       "  </tbody>\n",
       "</table>\n",
       "<p>1735 rows × 6 columns</p>\n",
       "</div>"
      ],
      "text/plain": [
       "        order_id  product_quantity      sku                date  unit_price  \\\n",
       "117       299638                 1  SYN0127 2017-01-01 11:56:18      223.24   \n",
       "192       299706                 1  EVU0007 2017-01-01 13:57:16       28.49   \n",
       "198       299712                 1  APP0608 2017-01-01 14:10:47      279.99   \n",
       "253       299766                 1  APP0607 2017-01-01 16:09:02      279.99   \n",
       "285       299799                 1  APP0608 2017-01-01 17:09:18      279.99   \n",
       "...          ...               ...      ...                 ...         ...   \n",
       "283903    521165                 1  CEL0044 2018-03-05 07:35:33        7.99   \n",
       "285011    521667                 1  CEL0044 2018-03-05 13:39:35        7.99   \n",
       "291946    525658                 1  DOD0010 2018-03-11 22:37:54       21.99   \n",
       "291957    525670                 1  DOD0010 2018-03-11 22:54:41       21.99   \n",
       "293648    527099                 2  CAL0010 2018-03-14 11:54:58      299.99   \n",
       "\n",
       "        check_sku  \n",
       "117         False  \n",
       "192         False  \n",
       "198         False  \n",
       "253         False  \n",
       "285         False  \n",
       "...           ...  \n",
       "283903      False  \n",
       "285011      False  \n",
       "291946      False  \n",
       "291957      False  \n",
       "293648      False  \n",
       "\n",
       "[1735 rows x 6 columns]"
      ]
     },
     "execution_count": 28,
     "metadata": {},
     "output_type": "execute_result"
    }
   ],
   "source": [
    "(\n",
    "ol_cl\n",
    "    .assign(check_sku = ol_cl['sku'].isin(p_cl['sku']))\n",
    "    .query(\"check_sku==False\")\n",
    ")"
   ]
  },
  {
   "cell_type": "markdown",
   "id": "cf6b198e-bdd4-43c4-8f1d-9d8a1e1884ed",
   "metadata": {},
   "source": [
    "#### correction:"
   ]
  },
  {
   "cell_type": "code",
   "execution_count": 29,
   "id": "3f1a6508-1159-4fd6-b2a3-d6c463f3a2e2",
   "metadata": {},
   "outputs": [],
   "source": [
    "ol_cl = (\n",
    "ol_cl\n",
    "    .assign(check_sku = ol_cl['sku'].isin(p_cl['sku']))\n",
    "    .query(\"check_sku==True\")\n",
    ")"
   ]
  },
  {
   "cell_type": "markdown",
   "id": "311bb880-9489-4279-9a59-66ddcb86288e",
   "metadata": {},
   "source": [
    "#### check if sku from p_cl in ol_cl"
   ]
  },
  {
   "cell_type": "code",
   "execution_count": 30,
   "id": "611c1e36-2d67-4be0-acd2-9071494b6865",
   "metadata": {},
   "outputs": [
    {
     "data": {
      "text/plain": [
       "7807"
      ]
     },
     "execution_count": 30,
     "metadata": {},
     "output_type": "execute_result"
    }
   ],
   "source": [
    "(\n",
    "p_cl\n",
    "    .assign(check_sku = p_cl['sku'].isin(ol_cl['sku']))\n",
    ")['check_sku'].sum()"
   ]
  },
  {
   "cell_type": "code",
   "execution_count": 31,
   "id": "8d330ac2-8045-48c9-8248-19d5a8a0e78a",
   "metadata": {},
   "outputs": [
    {
     "data": {
      "text/html": [
       "<div>\n",
       "<style scoped>\n",
       "    .dataframe tbody tr th:only-of-type {\n",
       "        vertical-align: middle;\n",
       "    }\n",
       "\n",
       "    .dataframe tbody tr th {\n",
       "        vertical-align: top;\n",
       "    }\n",
       "\n",
       "    .dataframe thead th {\n",
       "        text-align: right;\n",
       "    }\n",
       "</style>\n",
       "<table border=\"1\" class=\"dataframe\">\n",
       "  <thead>\n",
       "    <tr style=\"text-align: right;\">\n",
       "      <th></th>\n",
       "      <th>sku</th>\n",
       "      <th>name</th>\n",
       "      <th>desc</th>\n",
       "      <th>price</th>\n",
       "      <th>promo_price</th>\n",
       "      <th>check_sku</th>\n",
       "    </tr>\n",
       "  </thead>\n",
       "  <tbody>\n",
       "    <tr>\n",
       "      <th>6</th>\n",
       "      <td>KIN0008</td>\n",
       "      <td>Mac Memory Kingston 1GB 667MHz DDR2 SO-DIMM</td>\n",
       "      <td>1GB RAM Mac mini and iMac (2006/07) MacBook Pr...</td>\n",
       "      <td>18.99</td>\n",
       "      <td>146.47</td>\n",
       "      <td>False</td>\n",
       "    </tr>\n",
       "    <tr>\n",
       "      <th>11</th>\n",
       "      <td>SEN0021</td>\n",
       "      <td>Sennheiser CX 300-II Precision headphones iPho...</td>\n",
       "      <td>Headphones iPhone iPad iPad 2 iPad 3 and iPod.</td>\n",
       "      <td>49.99</td>\n",
       "      <td>449.88</td>\n",
       "      <td>False</td>\n",
       "    </tr>\n",
       "    <tr>\n",
       "      <th>21</th>\n",
       "      <td>APP0233</td>\n",
       "      <td>Apple iPad Camera Connection connector</td>\n",
       "      <td>IPad connector for digital cameras and SD cards.</td>\n",
       "      <td>35.00</td>\n",
       "      <td>349.90</td>\n",
       "      <td>False</td>\n",
       "    </tr>\n",
       "    <tr>\n",
       "      <th>22</th>\n",
       "      <td>JMO0014</td>\n",
       "      <td>Just Mobile Upstand iPad support</td>\n",
       "      <td>Support Retina iPad and iPad mini aluminum.</td>\n",
       "      <td>49.95</td>\n",
       "      <td>399.90</td>\n",
       "      <td>False</td>\n",
       "    </tr>\n",
       "    <tr>\n",
       "      <th>23</th>\n",
       "      <td>MOB0007</td>\n",
       "      <td>Mobee Magic Charger Charger Magic Mouse</td>\n",
       "      <td>Wireless Charger for Magic Mouse</td>\n",
       "      <td>49.99</td>\n",
       "      <td>499.85</td>\n",
       "      <td>False</td>\n",
       "    </tr>\n",
       "    <tr>\n",
       "      <th>...</th>\n",
       "      <td>...</td>\n",
       "      <td>...</td>\n",
       "      <td>...</td>\n",
       "      <td>...</td>\n",
       "      <td>...</td>\n",
       "      <td>...</td>\n",
       "    </tr>\n",
       "    <tr>\n",
       "      <th>10472</th>\n",
       "      <td>BEL0376</td>\n",
       "      <td>Belkin Travel Support Apple Watch Black</td>\n",
       "      <td>compact and portable stand vertically or horiz...</td>\n",
       "      <td>29.99</td>\n",
       "      <td>269.90</td>\n",
       "      <td>False</td>\n",
       "    </tr>\n",
       "    <tr>\n",
       "      <th>10473</th>\n",
       "      <td>THU0060</td>\n",
       "      <td>Enroute Thule 14L Backpack MacBook 13 \"Black</td>\n",
       "      <td>Backpack with capacity of 14 liter compartment...</td>\n",
       "      <td>69.95</td>\n",
       "      <td>649.90</td>\n",
       "      <td>False</td>\n",
       "    </tr>\n",
       "    <tr>\n",
       "      <th>10474</th>\n",
       "      <td>THU0061</td>\n",
       "      <td>Enroute Thule 14L Backpack MacBook 13 \"Blue</td>\n",
       "      <td>Backpack with capacity of 14 liter compartment...</td>\n",
       "      <td>69.95</td>\n",
       "      <td>649.90</td>\n",
       "      <td>False</td>\n",
       "    </tr>\n",
       "    <tr>\n",
       "      <th>10475</th>\n",
       "      <td>THU0062</td>\n",
       "      <td>Enroute Thule 14L Backpack MacBook 13 \"Red</td>\n",
       "      <td>Backpack with capacity of 14 liter compartment...</td>\n",
       "      <td>69.95</td>\n",
       "      <td>649.90</td>\n",
       "      <td>False</td>\n",
       "    </tr>\n",
       "    <tr>\n",
       "      <th>10476</th>\n",
       "      <td>THU0063</td>\n",
       "      <td>Enroute Thule 14L Backpack MacBook 13 \"Green</td>\n",
       "      <td>Backpack with capacity of 14 liter compartment...</td>\n",
       "      <td>69.95</td>\n",
       "      <td>649.90</td>\n",
       "      <td>False</td>\n",
       "    </tr>\n",
       "  </tbody>\n",
       "</table>\n",
       "<p>2670 rows × 6 columns</p>\n",
       "</div>"
      ],
      "text/plain": [
       "           sku                                               name  \\\n",
       "6      KIN0008        Mac Memory Kingston 1GB 667MHz DDR2 SO-DIMM   \n",
       "11     SEN0021  Sennheiser CX 300-II Precision headphones iPho...   \n",
       "21     APP0233             Apple iPad Camera Connection connector   \n",
       "22     JMO0014                   Just Mobile Upstand iPad support   \n",
       "23     MOB0007            Mobee Magic Charger Charger Magic Mouse   \n",
       "...        ...                                                ...   \n",
       "10472  BEL0376            Belkin Travel Support Apple Watch Black   \n",
       "10473  THU0060       Enroute Thule 14L Backpack MacBook 13 \"Black   \n",
       "10474  THU0061        Enroute Thule 14L Backpack MacBook 13 \"Blue   \n",
       "10475  THU0062         Enroute Thule 14L Backpack MacBook 13 \"Red   \n",
       "10476  THU0063       Enroute Thule 14L Backpack MacBook 13 \"Green   \n",
       "\n",
       "                                                    desc  price  promo_price  \\\n",
       "6      1GB RAM Mac mini and iMac (2006/07) MacBook Pr...  18.99       146.47   \n",
       "11        Headphones iPhone iPad iPad 2 iPad 3 and iPod.  49.99       449.88   \n",
       "21      IPad connector for digital cameras and SD cards.  35.00       349.90   \n",
       "22           Support Retina iPad and iPad mini aluminum.  49.95       399.90   \n",
       "23                      Wireless Charger for Magic Mouse  49.99       499.85   \n",
       "...                                                  ...    ...          ...   \n",
       "10472  compact and portable stand vertically or horiz...  29.99       269.90   \n",
       "10473  Backpack with capacity of 14 liter compartment...  69.95       649.90   \n",
       "10474  Backpack with capacity of 14 liter compartment...  69.95       649.90   \n",
       "10475  Backpack with capacity of 14 liter compartment...  69.95       649.90   \n",
       "10476  Backpack with capacity of 14 liter compartment...  69.95       649.90   \n",
       "\n",
       "       check_sku  \n",
       "6          False  \n",
       "11         False  \n",
       "21         False  \n",
       "22         False  \n",
       "23         False  \n",
       "...          ...  \n",
       "10472      False  \n",
       "10473      False  \n",
       "10474      False  \n",
       "10475      False  \n",
       "10476      False  \n",
       "\n",
       "[2670 rows x 6 columns]"
      ]
     },
     "execution_count": 31,
     "metadata": {},
     "output_type": "execute_result"
    }
   ],
   "source": [
    "(\n",
    "p_cl\n",
    "    .assign(check_sku = p_cl['sku'].isin(ol_cl['sku']))\n",
    "    .query(\"check_sku==False\")\n",
    ")"
   ]
  },
  {
   "cell_type": "markdown",
   "id": "6245b8c8-74af-4cbc-9a9e-b546579dd33d",
   "metadata": {},
   "source": [
    "#### correction"
   ]
  },
  {
   "cell_type": "code",
   "execution_count": 32,
   "id": "8909e806-3854-4a33-a6bd-34d02737a26d",
   "metadata": {},
   "outputs": [],
   "source": [
    "p_cl = (\n",
    "p_cl\n",
    "    .assign(check_sku = p_cl['sku'].isin(ol_cl['sku']))\n",
    "    .query(\"check_sku==True\")\n",
    ")"
   ]
  },
  {
   "cell_type": "code",
   "execution_count": 33,
   "id": "bb28efc8-f98e-4308-8ba3-1564cdb36f6b",
   "metadata": {},
   "outputs": [],
   "source": [
    "p_cl = p_cl.drop(columns = {\"check_sku\"})"
   ]
  },
  {
   "cell_type": "markdown",
   "id": "9f56305c-f456-4799-a806-5502f1b0f7dc",
   "metadata": {},
   "source": [
    "#### checking samples"
   ]
  },
  {
   "cell_type": "code",
   "execution_count": 34,
   "id": "b84dea42-b2ec-444c-ab05-d57c52f7581a",
   "metadata": {},
   "outputs": [
    {
     "name": "stdout",
     "output_type": "stream",
     "text": [
      "<class 'pandas.core.frame.DataFrame'>\n",
      "Int64Index: 7807 entries, 0 to 10471\n",
      "Data columns (total 5 columns):\n",
      " #   Column       Non-Null Count  Dtype  \n",
      "---  ------       --------------  -----  \n",
      " 0   sku          7807 non-null   object \n",
      " 1   name         7807 non-null   object \n",
      " 2   desc         7807 non-null   object \n",
      " 3   price        7807 non-null   float64\n",
      " 4   promo_price  7807 non-null   float64\n",
      "dtypes: float64(2), object(3)\n",
      "memory usage: 366.0+ KB\n",
      "Duplicated: False    7807\n",
      "dtype: int64\n",
      "NaN-Values: \n",
      " sku            0\n",
      "name           0\n",
      "desc           0\n",
      "price          0\n",
      "promo_price    0\n",
      "dtype: int64\n"
     ]
    },
    {
     "data": {
      "text/plain": [
       "(None, None, None)"
      ]
     },
     "execution_count": 34,
     "metadata": {},
     "output_type": "execute_result"
    }
   ],
   "source": [
    "check_df(p_cl)"
   ]
  },
  {
   "cell_type": "code",
   "execution_count": 35,
   "id": "866e03a3-4b54-406b-b457-6ee5c7e0e386",
   "metadata": {},
   "outputs": [
    {
     "data": {
      "text/html": [
       "<div>\n",
       "<style scoped>\n",
       "    .dataframe tbody tr th:only-of-type {\n",
       "        vertical-align: middle;\n",
       "    }\n",
       "\n",
       "    .dataframe tbody tr th {\n",
       "        vertical-align: top;\n",
       "    }\n",
       "\n",
       "    .dataframe thead th {\n",
       "        text-align: right;\n",
       "    }\n",
       "</style>\n",
       "<table border=\"1\" class=\"dataframe\">\n",
       "  <thead>\n",
       "    <tr style=\"text-align: right;\">\n",
       "      <th></th>\n",
       "      <th>sku</th>\n",
       "      <th>name</th>\n",
       "      <th>desc</th>\n",
       "      <th>price</th>\n",
       "      <th>promo_price</th>\n",
       "    </tr>\n",
       "  </thead>\n",
       "  <tbody>\n",
       "    <tr>\n",
       "      <th>4842</th>\n",
       "      <td>IFX0141</td>\n",
       "      <td>iFixit Destornilador Tri-point Y00 A1278 Macbo...</td>\n",
       "      <td>MacBook Trackpad screwdriver 2008 / MacBook Pr...</td>\n",
       "      <td>4.99</td>\n",
       "      <td>44.89</td>\n",
       "    </tr>\n",
       "    <tr>\n",
       "      <th>5877</th>\n",
       "      <td>APP1914</td>\n",
       "      <td>Apple MacBook Pro 15 \"Core i7 Touch Bar 27GHz ...</td>\n",
       "      <td>New MacBook Pro 15-inch Touch Bar to 27GHz Cor...</td>\n",
       "      <td>3679.00</td>\n",
       "      <td>3285.59</td>\n",
       "    </tr>\n",
       "    <tr>\n",
       "      <th>5256</th>\n",
       "      <td>OWC0097-A</td>\n",
       "      <td>Open - OWC Thunderbolt Cable 1m Black</td>\n",
       "      <td>Thunderbolt Cable 1 meter</td>\n",
       "      <td>48.99</td>\n",
       "      <td>359.90</td>\n",
       "    </tr>\n",
       "    <tr>\n",
       "      <th>4693</th>\n",
       "      <td>HTE0009</td>\n",
       "      <td>Hyper Pearl 3000mAh USB Battery mirror and Silver</td>\n",
       "      <td>Mirror + Portable 3000mAh USB (2.4A) battery c...</td>\n",
       "      <td>34.95</td>\n",
       "      <td>299.90</td>\n",
       "    </tr>\n",
       "    <tr>\n",
       "      <th>1518</th>\n",
       "      <td>TWS0085</td>\n",
       "      <td>Twelve South HiRise Deluxe iPhone and iPad Black</td>\n",
       "      <td>Adjustable Stand for iPhone 5 Lightning / 5C /...</td>\n",
       "      <td>69.99</td>\n",
       "      <td>569.90</td>\n",
       "    </tr>\n",
       "    <tr>\n",
       "      <th>7758</th>\n",
       "      <td>APP2084</td>\n",
       "      <td>Apple MacBook Pro 13 \"Core i5 with Touch Bar 3...</td>\n",
       "      <td>New MacBook Pro 13 inch Touch Bar 31 GHz Core ...</td>\n",
       "      <td>2005.59</td>\n",
       "      <td>1885.00</td>\n",
       "    </tr>\n",
       "    <tr>\n",
       "      <th>5631</th>\n",
       "      <td>MUJ0018</td>\n",
       "      <td>Mujjo iPhone Leather Case Leather Champagne 8/7/6</td>\n",
       "      <td>ultrathin Case for iPhone vegetable tanned lea...</td>\n",
       "      <td>39.90</td>\n",
       "      <td>359.90</td>\n",
       "    </tr>\n",
       "    <tr>\n",
       "      <th>10116</th>\n",
       "      <td>CAV0010</td>\n",
       "      <td>Cavus Foot Support Sonos Play 1 White</td>\n",
       "      <td>Floor stand for Speaker Sonos Play 1</td>\n",
       "      <td>59.00</td>\n",
       "      <td>71.39</td>\n",
       "    </tr>\n",
       "    <tr>\n",
       "      <th>2517</th>\n",
       "      <td>IHE0016</td>\n",
       "      <td>iHealth Ismart Alarm Command for home</td>\n",
       "      <td>Command to activate and deactivate alarm range...</td>\n",
       "      <td>24.95</td>\n",
       "      <td>249.86</td>\n",
       "    </tr>\n",
       "    <tr>\n",
       "      <th>6601</th>\n",
       "      <td>EIZ0024</td>\n",
       "      <td>Eizo FlexScan EV2736W Monitor 27 \"QHD DP pivot...</td>\n",
       "      <td>27-inch monitor with slim frame and adjustable...</td>\n",
       "      <td>629.00</td>\n",
       "      <td>649.99</td>\n",
       "    </tr>\n",
       "  </tbody>\n",
       "</table>\n",
       "</div>"
      ],
      "text/plain": [
       "             sku                                               name  \\\n",
       "4842     IFX0141  iFixit Destornilador Tri-point Y00 A1278 Macbo...   \n",
       "5877     APP1914  Apple MacBook Pro 15 \"Core i7 Touch Bar 27GHz ...   \n",
       "5256   OWC0097-A              Open - OWC Thunderbolt Cable 1m Black   \n",
       "4693     HTE0009  Hyper Pearl 3000mAh USB Battery mirror and Silver   \n",
       "1518     TWS0085   Twelve South HiRise Deluxe iPhone and iPad Black   \n",
       "7758     APP2084  Apple MacBook Pro 13 \"Core i5 with Touch Bar 3...   \n",
       "5631     MUJ0018  Mujjo iPhone Leather Case Leather Champagne 8/7/6   \n",
       "10116    CAV0010              Cavus Foot Support Sonos Play 1 White   \n",
       "2517     IHE0016              iHealth Ismart Alarm Command for home   \n",
       "6601     EIZ0024  Eizo FlexScan EV2736W Monitor 27 \"QHD DP pivot...   \n",
       "\n",
       "                                                    desc    price  promo_price  \n",
       "4842   MacBook Trackpad screwdriver 2008 / MacBook Pr...     4.99        44.89  \n",
       "5877   New MacBook Pro 15-inch Touch Bar to 27GHz Cor...  3679.00      3285.59  \n",
       "5256                           Thunderbolt Cable 1 meter    48.99       359.90  \n",
       "4693   Mirror + Portable 3000mAh USB (2.4A) battery c...    34.95       299.90  \n",
       "1518   Adjustable Stand for iPhone 5 Lightning / 5C /...    69.99       569.90  \n",
       "7758   New MacBook Pro 13 inch Touch Bar 31 GHz Core ...  2005.59      1885.00  \n",
       "5631   ultrathin Case for iPhone vegetable tanned lea...    39.90       359.90  \n",
       "10116               Floor stand for Speaker Sonos Play 1    59.00        71.39  \n",
       "2517   Command to activate and deactivate alarm range...    24.95       249.86  \n",
       "6601   27-inch monitor with slim frame and adjustable...   629.00       649.99  "
      ]
     },
     "execution_count": 35,
     "metadata": {},
     "output_type": "execute_result"
    }
   ],
   "source": [
    "p_cl.sample(10)"
   ]
  },
  {
   "cell_type": "markdown",
   "id": "5420a916-f240-418b-b524-0a599981ec92",
   "metadata": {},
   "source": [
    "## merging o_cl with ol_cl"
   ]
  },
  {
   "cell_type": "code",
   "execution_count": 36,
   "id": "24aac3d0-3b73-413b-b35c-38a900238fc5",
   "metadata": {},
   "outputs": [],
   "source": [
    "orders_info = (\n",
    "o_cl\n",
    "    .merge(ol_cl, how='inner', left_on='order_id', right_on='order_id').reset_index()\n",
    "    .copy()\n",
    ")"
   ]
  },
  {
   "cell_type": "code",
   "execution_count": 41,
   "id": "875ce8d4-b562-4bb8-b84f-33e386448fdf",
   "metadata": {},
   "outputs": [
    {
     "name": "stdout",
     "output_type": "stream",
     "text": [
      "<class 'pandas.core.frame.DataFrame'>\n",
      "Int64Index: 204691 entries, 0 to 226903\n",
      "Data columns (total 4 columns):\n",
      " #   Column        Non-Null Count   Dtype         \n",
      "---  ------        --------------   -----         \n",
      " 0   order_id      204691 non-null  int64         \n",
      " 1   created_date  204691 non-null  datetime64[ns]\n",
      " 2   total_paid    204691 non-null  float64       \n",
      " 3   state         204691 non-null  object        \n",
      "dtypes: datetime64[ns](1), float64(1), int64(1), object(1)\n",
      "memory usage: 7.8+ MB\n",
      "Duplicated: False    204691\n",
      "dtype: int64\n",
      "NaN-Values: \n",
      " order_id        0\n",
      "created_date    0\n",
      "total_paid      0\n",
      "state           0\n",
      "dtype: int64\n"
     ]
    },
    {
     "data": {
      "text/plain": [
       "(None, None, None)"
      ]
     },
     "execution_count": 41,
     "metadata": {},
     "output_type": "execute_result"
    }
   ],
   "source": [
    "check_df(o_cl)"
   ]
  },
  {
   "cell_type": "code",
   "execution_count": null,
   "id": "24eb96a7-f962-4034-80de-cad152f9b257",
   "metadata": {},
   "outputs": [],
   "source": []
  },
  {
   "cell_type": "markdown",
   "id": "358ddf1a-6cbe-4c46-a777-75abf528e4dd",
   "metadata": {},
   "source": [
    "## finding NaN-Values"
   ]
  },
  {
   "cell_type": "code",
   "execution_count": 38,
   "id": "0b9977d1-ea01-4c8e-ac07-24b1f78140b6",
   "metadata": {},
   "outputs": [],
   "source": [
    "def find_nan_rows(data, column):\n",
    "    for val in column:\n",
    "        data = data[data[val].isna()]\n",
    "    return data\n"
   ]
  },
  {
   "cell_type": "code",
   "execution_count": 39,
   "id": "c9149361-c5e7-4e1b-9771-d4d91adf118c",
   "metadata": {},
   "outputs": [
    {
     "name": "stdout",
     "output_type": "stream",
     "text": [
      "<class 'pandas.core.frame.DataFrame'>\n",
      "Int64Index: 7807 entries, 0 to 10471\n",
      "Data columns (total 5 columns):\n",
      " #   Column       Non-Null Count  Dtype  \n",
      "---  ------       --------------  -----  \n",
      " 0   sku          7807 non-null   object \n",
      " 1   name         7807 non-null   object \n",
      " 2   desc         7807 non-null   object \n",
      " 3   price        7807 non-null   float64\n",
      " 4   promo_price  7807 non-null   float64\n",
      "dtypes: float64(2), object(3)\n",
      "memory usage: 366.0+ KB\n",
      "Duplicated: False    7807\n",
      "dtype: int64\n",
      "NaN-Values: \n",
      " sku            0\n",
      "name           0\n",
      "desc           0\n",
      "price          0\n",
      "promo_price    0\n",
      "dtype: int64\n"
     ]
    },
    {
     "data": {
      "text/plain": [
       "(None, None, None)"
      ]
     },
     "execution_count": 39,
     "metadata": {},
     "output_type": "execute_result"
    }
   ],
   "source": [
    "check_df(p_cl)"
   ]
  },
  {
   "cell_type": "code",
   "execution_count": 40,
   "id": "dd567d6f-c63a-4827-8ea8-143156510b4d",
   "metadata": {},
   "outputs": [],
   "source": [
    "# p_cl.to_csv(\"eniac-data-clean/products_cl.csv\", index=False)\n",
    "# orders_info.to_csv(\"eniac-data-clean/orders_info_cl.csv\", index=False)\n",
    "# ol_cl.to_csv(\"eniac-data-clean/orderlines_cl.csv\", index=False)\n",
    "# o_cl.to_csv(\"eniac-data-clean/orders_cl.csv\", index=False)"
   ]
  },
  {
   "cell_type": "code",
   "execution_count": null,
   "id": "b1f93e5a-7b29-4aa0-9fe5-b7929e2872dd",
   "metadata": {},
   "outputs": [],
   "source": []
  },
  {
   "cell_type": "code",
   "execution_count": null,
   "id": "b53c176b-6206-4c68-a353-e4e19aac3335",
   "metadata": {},
   "outputs": [],
   "source": []
  },
  {
   "cell_type": "code",
   "execution_count": null,
   "id": "cb203b7d-a147-494f-ac59-713c42321ab4",
   "metadata": {},
   "outputs": [],
   "source": []
  }
 ],
 "metadata": {
  "kernelspec": {
   "display_name": "Python 3",
   "language": "python",
   "name": "python3"
  },
  "language_info": {
   "codemirror_mode": {
    "name": "ipython",
    "version": 3
   },
   "file_extension": ".py",
   "mimetype": "text/x-python",
   "name": "python",
   "nbconvert_exporter": "python",
   "pygments_lexer": "ipython3",
   "version": "3.8.8"
  }
 },
 "nbformat": 4,
 "nbformat_minor": 5
}

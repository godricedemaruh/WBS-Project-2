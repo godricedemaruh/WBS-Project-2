{
 "cells": [
  {
   "cell_type": "code",
   "execution_count": 5,
   "id": "ddc4da9d-98f9-44ee-bbb1-0e191575d5ff",
   "metadata": {},
   "outputs": [],
   "source": [
    "import pandas as pd"
   ]
  },
  {
   "cell_type": "code",
   "execution_count": 2,
   "id": "91d3c2e4-38dc-4592-a678-a1b97cb177cf",
   "metadata": {},
   "outputs": [],
   "source": [
    "# import glob"
   ]
  },
  {
   "cell_type": "code",
   "execution_count": 5,
   "id": "6a85bc37-1b8f-41ce-b554-2d40f960aa71",
   "metadata": {},
   "outputs": [],
   "source": [
    "# files = glob.glob(\"eniac-data-default/*.csv\")\n",
    " \n",
    "# df_list = []\n",
    "# for filename in files:\n",
    "#   data = pd.read_csv(filename)\n",
    "#   df_list.append(data)\n",
    " \n",
    "# df = pd.concat(df_list)"
   ]
  },
  {
   "cell_type": "code",
   "execution_count": 6,
   "id": "55e49f02-c786-4ba2-bf9c-71298dfef62c",
   "metadata": {},
   "outputs": [],
   "source": [
    "orders = pd.read_csv(\"eniac-data-default/orders.csv\")\n",
    "orderlines = pd.read_csv(\"eniac-data-default/orderlines.csv\")\n",
    "products = pd.read_csv(\"eniac-data-default/products.csv\")\n",
    "brands = pd.read_csv(\"eniac-data-default/brands.csv\")"
   ]
  },
  {
   "cell_type": "code",
   "execution_count": 13,
   "id": "305e159b-25fc-467c-97f6-087efe1cc599",
   "metadata": {},
   "outputs": [
    {
     "data": {
      "text/plain": [
       "order_id        0\n",
       "created_date    0\n",
       "total_paid      5\n",
       "state           0\n",
       "dtype: int64"
      ]
     },
     "execution_count": 13,
     "metadata": {},
     "output_type": "execute_result"
    }
   ],
   "source": [
    "orders.isna().sum()"
   ]
  },
  {
   "cell_type": "code",
   "execution_count": 15,
   "id": "97aa5788-88d2-4b71-acbe-cdb58872d217",
   "metadata": {},
   "outputs": [
    {
     "name": "stdout",
     "output_type": "stream",
     "text": [
      "<class 'pandas.core.frame.DataFrame'>\n",
      "RangeIndex: 226909 entries, 0 to 226908\n",
      "Data columns (total 4 columns):\n",
      " #   Column        Non-Null Count   Dtype  \n",
      "---  ------        --------------   -----  \n",
      " 0   order_id      226909 non-null  int64  \n",
      " 1   created_date  226909 non-null  object \n",
      " 2   total_paid    226904 non-null  float64\n",
      " 3   state         226909 non-null  object \n",
      "dtypes: float64(1), int64(1), object(2)\n",
      "memory usage: 6.9+ MB\n"
     ]
    }
   ],
   "source": [
    "orders.info()"
   ]
  },
  {
   "cell_type": "markdown",
   "id": "df701f74-97cb-4acd-87e9-e4bdd3c90bcc",
   "metadata": {},
   "source": [
    "## orders pipeline"
   ]
  },
  {
   "cell_type": "code",
   "execution_count": 17,
   "id": "033ad510-a4be-4916-8f18-4f37fe970fad",
   "metadata": {},
   "outputs": [],
   "source": [
    "def start_pipeline(data): \n",
    "    return data.copy()\n",
    "\n",
    "def set_types_orders(data): \n",
    "    return data.assign(created_date = pd.to_datetime(data['created_date']))\n",
    "\n",
    "def remove_NaN_orders(data):\n",
    "    return data.dropna()"
   ]
  },
  {
   "cell_type": "code",
   "execution_count": 31,
   "id": "494101ed-f9d4-4800-b8b9-9c6be6d9062e",
   "metadata": {},
   "outputs": [
    {
     "data": {
      "text/html": [
       "<div>\n",
       "<style scoped>\n",
       "    .dataframe tbody tr th:only-of-type {\n",
       "        vertical-align: middle;\n",
       "    }\n",
       "\n",
       "    .dataframe tbody tr th {\n",
       "        vertical-align: top;\n",
       "    }\n",
       "\n",
       "    .dataframe thead th {\n",
       "        text-align: right;\n",
       "    }\n",
       "</style>\n",
       "<table border=\"1\" class=\"dataframe\">\n",
       "  <thead>\n",
       "    <tr style=\"text-align: right;\">\n",
       "      <th></th>\n",
       "      <th>order_id</th>\n",
       "      <th>created_date</th>\n",
       "      <th>total_paid</th>\n",
       "      <th>state</th>\n",
       "    </tr>\n",
       "  </thead>\n",
       "  <tbody>\n",
       "    <tr>\n",
       "      <th>37187</th>\n",
       "      <td>336671</td>\n",
       "      <td>2017-03-19 09:15:17</td>\n",
       "      <td>115.97</td>\n",
       "      <td>Pending</td>\n",
       "    </tr>\n",
       "    <tr>\n",
       "      <th>58818</th>\n",
       "      <td>358356</td>\n",
       "      <td>2017-05-23 13:36:27</td>\n",
       "      <td>98.99</td>\n",
       "      <td>Pending</td>\n",
       "    </tr>\n",
       "    <tr>\n",
       "      <th>25514</th>\n",
       "      <td>324994</td>\n",
       "      <td>2017-02-16 00:09:56</td>\n",
       "      <td>64.97</td>\n",
       "      <td>Shopping Basket</td>\n",
       "    </tr>\n",
       "    <tr>\n",
       "      <th>161868</th>\n",
       "      <td>462128</td>\n",
       "      <td>2017-12-13 19:15:19</td>\n",
       "      <td>0.00</td>\n",
       "      <td>Shopping Basket</td>\n",
       "    </tr>\n",
       "    <tr>\n",
       "      <th>161028</th>\n",
       "      <td>461286</td>\n",
       "      <td>2017-12-13 00:15:08</td>\n",
       "      <td>734.00</td>\n",
       "      <td>Shopping Basket</td>\n",
       "    </tr>\n",
       "  </tbody>\n",
       "</table>\n",
       "</div>"
      ],
      "text/plain": [
       "        order_id        created_date  total_paid            state\n",
       "37187     336671 2017-03-19 09:15:17      115.97          Pending\n",
       "58818     358356 2017-05-23 13:36:27       98.99          Pending\n",
       "25514     324994 2017-02-16 00:09:56       64.97  Shopping Basket\n",
       "161868    462128 2017-12-13 19:15:19        0.00  Shopping Basket\n",
       "161028    461286 2017-12-13 00:15:08      734.00  Shopping Basket"
      ]
     },
     "execution_count": 31,
     "metadata": {},
     "output_type": "execute_result"
    }
   ],
   "source": [
    "orders.pipe(start_pipeline).pipe(set_types_orders).pipe(remove_NaN_orders).sample(5)"
   ]
  },
  {
   "cell_type": "code",
   "execution_count": 25,
   "id": "b23b4d83-2b0a-43b7-8751-f4f50e344ed0",
   "metadata": {},
   "outputs": [
    {
     "data": {
      "text/plain": [
       "False    226909\n",
       "dtype: int64"
      ]
     },
     "execution_count": 25,
     "metadata": {},
     "output_type": "execute_result"
    }
   ],
   "source": [
    "orders.duplicated().value_counts()"
   ]
  },
  {
   "cell_type": "markdown",
   "id": "c7bb7f2e-4424-4f2b-ad95-0793ba990a64",
   "metadata": {},
   "source": [
    "## orderlines pipeline"
   ]
  },
  {
   "cell_type": "code",
   "execution_count": 40,
   "id": "07fc0900-5a73-4e91-829f-f653ba7f9522",
   "metadata": {},
   "outputs": [
    {
     "data": {
      "text/plain": [
       "135724       51.99\n",
       "101607       82.99\n",
       "108265       15.90\n",
       "261491      158.99\n",
       "182813      154.99\n",
       "109766    2.304.60\n",
       "42484        59.00\n",
       "101527       30.92\n",
       "241308      239.00\n",
       "231227       64.99\n",
       "Name: unit_price, dtype: object"
      ]
     },
     "execution_count": 40,
     "metadata": {},
     "output_type": "execute_result"
    }
   ],
   "source": [
    "orderlines.unit_price.sample(10)"
   ]
  },
  {
   "cell_type": "code",
   "execution_count": 64,
   "id": "846d1a21-4c8f-4b70-bc7f-fac50d189ecf",
   "metadata": {},
   "outputs": [],
   "source": [
    "def start_pipeline(data): \n",
    "    return data.copy()\n",
    "\n",
    "def rename_id_o(data):\n",
    "    return data.rename(columns={'id_order':'order_id'})\n",
    "\n",
    "def set_types_orders(data): \n",
    "    return data.assign(date = pd.to_datetime(data['date']))\n",
    "\n",
    "def remove_dots(data):\n",
    "    return data.assign(price_nd = data['unit_price'].str.replace('\\.','', regex=True))\n",
    "\n",
    "def split_price(data):\n",
    "    return (data\n",
    "        .assign(euro = data['price_nd'].str[:-2])\n",
    "        .assign(cent = data['price_nd'].str[-2:])\n",
    "    )\n",
    "\n",
    "def merge_price(data):\n",
    "    return data.assign(price_per_unit = data['euro'] + '.' + data['cent'])\n",
    "\n",
    "def set_type_price(data): \n",
    "    return data.assign(price_per_unit = pd.to_numeric(data['price_per_unit']))\n",
    "\n",
    "def drop_unrelevant(data):\n",
    "    return data.drop(columns = {'unit_price', 'price_nd', 'euro', 'cent', 'product_id'})\n",
    "\n",
    "def rename_price(data):\n",
    "    return data.rename(columns={'price_per_unit':'unit_price'})"
   ]
  },
  {
   "cell_type": "code",
   "execution_count": 65,
   "id": "77d2184f-61bf-4d9e-9338-3eee5b4e0a24",
   "metadata": {},
   "outputs": [
    {
     "data": {
      "text/html": [
       "<div>\n",
       "<style scoped>\n",
       "    .dataframe tbody tr th:only-of-type {\n",
       "        vertical-align: middle;\n",
       "    }\n",
       "\n",
       "    .dataframe tbody tr th {\n",
       "        vertical-align: top;\n",
       "    }\n",
       "\n",
       "    .dataframe thead th {\n",
       "        text-align: right;\n",
       "    }\n",
       "</style>\n",
       "<table border=\"1\" class=\"dataframe\">\n",
       "  <thead>\n",
       "    <tr style=\"text-align: right;\">\n",
       "      <th></th>\n",
       "      <th>id</th>\n",
       "      <th>order_id</th>\n",
       "      <th>product_quantity</th>\n",
       "      <th>sku</th>\n",
       "      <th>date</th>\n",
       "      <th>unit_price</th>\n",
       "    </tr>\n",
       "  </thead>\n",
       "  <tbody>\n",
       "    <tr>\n",
       "      <th>100266</th>\n",
       "      <td>1310615</td>\n",
       "      <td>385845</td>\n",
       "      <td>1</td>\n",
       "      <td>APP2450</td>\n",
       "      <td>2017-08-03 13:54:40</td>\n",
       "      <td>299.00</td>\n",
       "    </tr>\n",
       "    <tr>\n",
       "      <th>201127</th>\n",
       "      <td>1494717</td>\n",
       "      <td>462178</td>\n",
       "      <td>1</td>\n",
       "      <td>SAT0054</td>\n",
       "      <td>2017-12-13 20:05:18</td>\n",
       "      <td>79.99</td>\n",
       "    </tr>\n",
       "    <tr>\n",
       "      <th>164185</th>\n",
       "      <td>1441222</td>\n",
       "      <td>440936</td>\n",
       "      <td>1</td>\n",
       "      <td>SYN0171</td>\n",
       "      <td>2017-11-24 19:14:55</td>\n",
       "      <td>79.99</td>\n",
       "    </tr>\n",
       "    <tr>\n",
       "      <th>89995</th>\n",
       "      <td>1291559</td>\n",
       "      <td>376820</td>\n",
       "      <td>1</td>\n",
       "      <td>APP2075</td>\n",
       "      <td>2017-07-13 12:02:39</td>\n",
       "      <td>3099.00</td>\n",
       "    </tr>\n",
       "    <tr>\n",
       "      <th>124998</th>\n",
       "      <td>1367299</td>\n",
       "      <td>407274</td>\n",
       "      <td>1</td>\n",
       "      <td>WDT0358</td>\n",
       "      <td>2017-10-02 11:54:52</td>\n",
       "      <td>93.30</td>\n",
       "    </tr>\n",
       "    <tr>\n",
       "      <th>10200</th>\n",
       "      <td>1144653</td>\n",
       "      <td>308834</td>\n",
       "      <td>1</td>\n",
       "      <td>APP0698</td>\n",
       "      <td>2017-01-13 14:32:57</td>\n",
       "      <td>9.99</td>\n",
       "    </tr>\n",
       "    <tr>\n",
       "      <th>254295</th>\n",
       "      <td>1586624</td>\n",
       "      <td>500841</td>\n",
       "      <td>1</td>\n",
       "      <td>ZAG0032</td>\n",
       "      <td>2018-01-29 10:51:47</td>\n",
       "      <td>29.99</td>\n",
       "    </tr>\n",
       "    <tr>\n",
       "      <th>58923</th>\n",
       "      <td>1236872</td>\n",
       "      <td>350378</td>\n",
       "      <td>1</td>\n",
       "      <td>APP0927</td>\n",
       "      <td>2017-04-27 15:12:33</td>\n",
       "      <td>14.99</td>\n",
       "    </tr>\n",
       "    <tr>\n",
       "      <th>1555</th>\n",
       "      <td>1122312</td>\n",
       "      <td>300987</td>\n",
       "      <td>1</td>\n",
       "      <td>ELG0039</td>\n",
       "      <td>2017-01-02 20:54:44</td>\n",
       "      <td>46.99</td>\n",
       "    </tr>\n",
       "    <tr>\n",
       "      <th>275803</th>\n",
       "      <td>1621441</td>\n",
       "      <td>514896</td>\n",
       "      <td>2</td>\n",
       "      <td>OWC0024</td>\n",
       "      <td>2018-02-20 17:31:33</td>\n",
       "      <td>25.99</td>\n",
       "    </tr>\n",
       "  </tbody>\n",
       "</table>\n",
       "</div>"
      ],
      "text/plain": [
       "             id  order_id  product_quantity      sku                date  \\\n",
       "100266  1310615    385845                 1  APP2450 2017-08-03 13:54:40   \n",
       "201127  1494717    462178                 1  SAT0054 2017-12-13 20:05:18   \n",
       "164185  1441222    440936                 1  SYN0171 2017-11-24 19:14:55   \n",
       "89995   1291559    376820                 1  APP2075 2017-07-13 12:02:39   \n",
       "124998  1367299    407274                 1  WDT0358 2017-10-02 11:54:52   \n",
       "10200   1144653    308834                 1  APP0698 2017-01-13 14:32:57   \n",
       "254295  1586624    500841                 1  ZAG0032 2018-01-29 10:51:47   \n",
       "58923   1236872    350378                 1  APP0927 2017-04-27 15:12:33   \n",
       "1555    1122312    300987                 1  ELG0039 2017-01-02 20:54:44   \n",
       "275803  1621441    514896                 2  OWC0024 2018-02-20 17:31:33   \n",
       "\n",
       "        unit_price  \n",
       "100266      299.00  \n",
       "201127       79.99  \n",
       "164185       79.99  \n",
       "89995      3099.00  \n",
       "124998       93.30  \n",
       "10200         9.99  \n",
       "254295       29.99  \n",
       "58923        14.99  \n",
       "1555         46.99  \n",
       "275803       25.99  "
      ]
     },
     "execution_count": 65,
     "metadata": {},
     "output_type": "execute_result"
    }
   ],
   "source": [
    "(\n",
    "orderlines\n",
    "    .pipe(start_pipeline)\n",
    "    .pipe(rename_id_o)\n",
    "    .pipe(set_types_orders)\n",
    "    .pipe(remove_dots)\n",
    "    .pipe(split_price)\n",
    "    .pipe(merge_price)\n",
    "    .pipe(set_type_price)\n",
    "    .pipe(drop_unrelevant)\n",
    "    .pipe(rename_price)\n",
    "    .sample(10)\n",
    ")"
   ]
  },
  {
   "cell_type": "markdown",
   "id": "92254ddd-69f1-4ec8-bd43-82593a1f1d7d",
   "metadata": {},
   "source": [
    "## products pipeline"
   ]
  },
  {
   "cell_type": "code",
   "execution_count": 56,
   "id": "b7e6a11b-87cc-4e0a-896c-01ae86f2d931",
   "metadata": {},
   "outputs": [
    {
     "data": {
      "text/plain": [
       "False    9823\n",
       "True     9503\n",
       "dtype: int64"
      ]
     },
     "execution_count": 56,
     "metadata": {},
     "output_type": "execute_result"
    }
   ],
   "source": [
    "products.duplicated(keep=False).value_counts()"
   ]
  },
  {
   "cell_type": "code",
   "execution_count": 57,
   "id": "632f8a2f-f80d-4daf-9eff-6493ba7c3bf1",
   "metadata": {},
   "outputs": [
    {
     "data": {
      "text/html": [
       "<div>\n",
       "<style scoped>\n",
       "    .dataframe tbody tr th:only-of-type {\n",
       "        vertical-align: middle;\n",
       "    }\n",
       "\n",
       "    .dataframe tbody tr th {\n",
       "        vertical-align: top;\n",
       "    }\n",
       "\n",
       "    .dataframe thead th {\n",
       "        text-align: right;\n",
       "    }\n",
       "</style>\n",
       "<table border=\"1\" class=\"dataframe\">\n",
       "  <thead>\n",
       "    <tr style=\"text-align: right;\">\n",
       "      <th></th>\n",
       "      <th>sku</th>\n",
       "      <th>name</th>\n",
       "      <th>desc</th>\n",
       "      <th>price</th>\n",
       "      <th>promo_price</th>\n",
       "      <th>in_stock</th>\n",
       "      <th>type</th>\n",
       "    </tr>\n",
       "  </thead>\n",
       "  <tbody>\n",
       "    <tr>\n",
       "      <th>100</th>\n",
       "      <td>APP0390</td>\n",
       "      <td>Apple MacBook Pro 133 \"Core i5 25GHz | 4GB RAM...</td>\n",
       "      <td>MacBook Pro laptop 133 inches (MD101Y / A).</td>\n",
       "      <td>1199</td>\n",
       "      <td>11.455.917</td>\n",
       "      <td>0</td>\n",
       "      <td>1282</td>\n",
       "    </tr>\n",
       "    <tr>\n",
       "      <th>101</th>\n",
       "      <td>APP0390</td>\n",
       "      <td>Apple MacBook Pro 133 \"Core i5 25GHz | 4GB RAM...</td>\n",
       "      <td>MacBook Pro laptop 133 inches (MD101Y / A).</td>\n",
       "      <td>1199</td>\n",
       "      <td>11.455.917</td>\n",
       "      <td>0</td>\n",
       "      <td>1282</td>\n",
       "    </tr>\n",
       "    <tr>\n",
       "      <th>102</th>\n",
       "      <td>APP0390</td>\n",
       "      <td>Apple MacBook Pro 133 \"Core i5 25GHz | 4GB RAM...</td>\n",
       "      <td>MacBook Pro laptop 133 inches (MD101Y / A).</td>\n",
       "      <td>1199</td>\n",
       "      <td>11.455.917</td>\n",
       "      <td>0</td>\n",
       "      <td>1282</td>\n",
       "    </tr>\n",
       "    <tr>\n",
       "      <th>103</th>\n",
       "      <td>APP0390</td>\n",
       "      <td>Apple MacBook Pro 133 \"Core i5 25GHz | 4GB RAM...</td>\n",
       "      <td>MacBook Pro laptop 133 inches (MD101Y / A).</td>\n",
       "      <td>1199</td>\n",
       "      <td>11.455.917</td>\n",
       "      <td>0</td>\n",
       "      <td>1282</td>\n",
       "    </tr>\n",
       "    <tr>\n",
       "      <th>104</th>\n",
       "      <td>APP0390</td>\n",
       "      <td>Apple MacBook Pro 133 \"Core i5 25GHz | 4GB RAM...</td>\n",
       "      <td>MacBook Pro laptop 133 inches (MD101Y / A).</td>\n",
       "      <td>1199</td>\n",
       "      <td>11.455.917</td>\n",
       "      <td>0</td>\n",
       "      <td>1282</td>\n",
       "    </tr>\n",
       "    <tr>\n",
       "      <th>...</th>\n",
       "      <td>...</td>\n",
       "      <td>...</td>\n",
       "      <td>...</td>\n",
       "      <td>...</td>\n",
       "      <td>...</td>\n",
       "      <td>...</td>\n",
       "      <td>...</td>\n",
       "    </tr>\n",
       "    <tr>\n",
       "      <th>18190</th>\n",
       "      <td>PAR0077</td>\n",
       "      <td>Parrot Bebop Drone 2 Power</td>\n",
       "      <td>Drone cuadricóptero quality camera integrated ...</td>\n",
       "      <td>699.9</td>\n",
       "      <td>6.733.892</td>\n",
       "      <td>0</td>\n",
       "      <td>11905404</td>\n",
       "    </tr>\n",
       "    <tr>\n",
       "      <th>18307</th>\n",
       "      <td>NKI0010</td>\n",
       "      <td>Nokia Wireless sphygmomanometer Plata</td>\n",
       "      <td>Sphygmomanometer for iPhone iPad and iPod App.</td>\n",
       "      <td>129.99</td>\n",
       "      <td>1.149.899</td>\n",
       "      <td>1</td>\n",
       "      <td>11905404</td>\n",
       "    </tr>\n",
       "    <tr>\n",
       "      <th>18308</th>\n",
       "      <td>NKI0010</td>\n",
       "      <td>Nokia Wireless sphygmomanometer Plata</td>\n",
       "      <td>Sphygmomanometer for iPhone iPad and iPod App.</td>\n",
       "      <td>129.99</td>\n",
       "      <td>1.149.899</td>\n",
       "      <td>1</td>\n",
       "      <td>11905404</td>\n",
       "    </tr>\n",
       "    <tr>\n",
       "      <th>18513</th>\n",
       "      <td>PLA0035</td>\n",
       "      <td>Bluetooth Headset Plantronics Explorer 80</td>\n",
       "      <td>egonómico wireless headset design for iPhone i...</td>\n",
       "      <td>39.99</td>\n",
       "      <td>349.896</td>\n",
       "      <td>1</td>\n",
       "      <td>5384</td>\n",
       "    </tr>\n",
       "    <tr>\n",
       "      <th>18514</th>\n",
       "      <td>PLA0035</td>\n",
       "      <td>Bluetooth Headset Plantronics Explorer 80</td>\n",
       "      <td>egonómico wireless headset design for iPhone i...</td>\n",
       "      <td>39.99</td>\n",
       "      <td>349.896</td>\n",
       "      <td>1</td>\n",
       "      <td>5384</td>\n",
       "    </tr>\n",
       "  </tbody>\n",
       "</table>\n",
       "<p>9503 rows × 7 columns</p>\n",
       "</div>"
      ],
      "text/plain": [
       "           sku                                               name  \\\n",
       "100    APP0390  Apple MacBook Pro 133 \"Core i5 25GHz | 4GB RAM...   \n",
       "101    APP0390  Apple MacBook Pro 133 \"Core i5 25GHz | 4GB RAM...   \n",
       "102    APP0390  Apple MacBook Pro 133 \"Core i5 25GHz | 4GB RAM...   \n",
       "103    APP0390  Apple MacBook Pro 133 \"Core i5 25GHz | 4GB RAM...   \n",
       "104    APP0390  Apple MacBook Pro 133 \"Core i5 25GHz | 4GB RAM...   \n",
       "...        ...                                                ...   \n",
       "18190  PAR0077                         Parrot Bebop Drone 2 Power   \n",
       "18307  NKI0010              Nokia Wireless sphygmomanometer Plata   \n",
       "18308  NKI0010              Nokia Wireless sphygmomanometer Plata   \n",
       "18513  PLA0035          Bluetooth Headset Plantronics Explorer 80   \n",
       "18514  PLA0035          Bluetooth Headset Plantronics Explorer 80   \n",
       "\n",
       "                                                    desc   price promo_price  \\\n",
       "100          MacBook Pro laptop 133 inches (MD101Y / A).    1199  11.455.917   \n",
       "101          MacBook Pro laptop 133 inches (MD101Y / A).    1199  11.455.917   \n",
       "102          MacBook Pro laptop 133 inches (MD101Y / A).    1199  11.455.917   \n",
       "103          MacBook Pro laptop 133 inches (MD101Y / A).    1199  11.455.917   \n",
       "104          MacBook Pro laptop 133 inches (MD101Y / A).    1199  11.455.917   \n",
       "...                                                  ...     ...         ...   \n",
       "18190  Drone cuadricóptero quality camera integrated ...   699.9   6.733.892   \n",
       "18307     Sphygmomanometer for iPhone iPad and iPod App.  129.99   1.149.899   \n",
       "18308     Sphygmomanometer for iPhone iPad and iPod App.  129.99   1.149.899   \n",
       "18513  egonómico wireless headset design for iPhone i...   39.99     349.896   \n",
       "18514  egonómico wireless headset design for iPhone i...   39.99     349.896   \n",
       "\n",
       "       in_stock      type  \n",
       "100           0      1282  \n",
       "101           0      1282  \n",
       "102           0      1282  \n",
       "103           0      1282  \n",
       "104           0      1282  \n",
       "...         ...       ...  \n",
       "18190         0  11905404  \n",
       "18307         1  11905404  \n",
       "18308         1  11905404  \n",
       "18513         1      5384  \n",
       "18514         1      5384  \n",
       "\n",
       "[9503 rows x 7 columns]"
      ]
     },
     "execution_count": 57,
     "metadata": {},
     "output_type": "execute_result"
    }
   ],
   "source": [
    "products[products.duplicated(keep=False)]"
   ]
  },
  {
   "cell_type": "code",
   "execution_count": 61,
   "id": "c9149361-c5e7-4e1b-9771-d4d91adf118c",
   "metadata": {},
   "outputs": [],
   "source": [
    "def start_pipeline(data): \n",
    "    return data.copy()\n",
    "\n",
    "def drop_unrelevant(data):\n",
    "    return data.drop(columns = {'in_stock', 'type'})\n"
   ]
  },
  {
   "cell_type": "code",
   "execution_count": 66,
   "id": "220c0eb2-698e-4073-9013-3052675bc375",
   "metadata": {},
   "outputs": [
    {
     "ename": "KeyError",
     "evalue": "'[<function start_pipeline at 0x000001445C658160>] not found in axis'",
     "output_type": "error",
     "traceback": [
      "\u001b[1;31m---------------------------------------------------------------------------\u001b[0m",
      "\u001b[1;31mKeyError\u001b[0m                                  Traceback (most recent call last)",
      "\u001b[1;32m<ipython-input-66-0a043920d13a>\u001b[0m in \u001b[0;36m<module>\u001b[1;34m\u001b[0m\n\u001b[0;32m      1\u001b[0m (\n\u001b[1;32m----> 2\u001b[1;33m \u001b[0mproducts\u001b[0m\u001b[1;33m\u001b[0m\u001b[1;33m\u001b[0m\u001b[0m\n\u001b[0m\u001b[0;32m      3\u001b[0m     \u001b[1;33m.\u001b[0m\u001b[0mdrop\u001b[0m\u001b[1;33m(\u001b[0m\u001b[0mstart_pipeline\u001b[0m\u001b[1;33m)\u001b[0m\u001b[1;33m\u001b[0m\u001b[1;33m\u001b[0m\u001b[0m\n\u001b[0;32m      4\u001b[0m     \u001b[1;33m.\u001b[0m\u001b[0mdrop\u001b[0m\u001b[1;33m(\u001b[0m\u001b[0mdrop_unrelevant\u001b[0m\u001b[1;33m)\u001b[0m\u001b[1;33m\u001b[0m\u001b[1;33m\u001b[0m\u001b[0m\n\u001b[0;32m      5\u001b[0m     \u001b[1;33m.\u001b[0m\u001b[0msample\u001b[0m\u001b[1;33m(\u001b[0m\u001b[1;36m10\u001b[0m\u001b[1;33m)\u001b[0m\u001b[1;33m\u001b[0m\u001b[1;33m\u001b[0m\u001b[0m\n",
      "\u001b[1;32m~\\anaconda3\\lib\\site-packages\\pandas\\core\\frame.py\u001b[0m in \u001b[0;36mdrop\u001b[1;34m(self, labels, axis, index, columns, level, inplace, errors)\u001b[0m\n\u001b[0;32m   4306\u001b[0m                 \u001b[0mweight\u001b[0m  \u001b[1;36m1.0\u001b[0m     \u001b[1;36m0.8\u001b[0m\u001b[1;33m\u001b[0m\u001b[1;33m\u001b[0m\u001b[0m\n\u001b[0;32m   4307\u001b[0m         \"\"\"\n\u001b[1;32m-> 4308\u001b[1;33m         return super().drop(\n\u001b[0m\u001b[0;32m   4309\u001b[0m             \u001b[0mlabels\u001b[0m\u001b[1;33m=\u001b[0m\u001b[0mlabels\u001b[0m\u001b[1;33m,\u001b[0m\u001b[1;33m\u001b[0m\u001b[1;33m\u001b[0m\u001b[0m\n\u001b[0;32m   4310\u001b[0m             \u001b[0maxis\u001b[0m\u001b[1;33m=\u001b[0m\u001b[0maxis\u001b[0m\u001b[1;33m,\u001b[0m\u001b[1;33m\u001b[0m\u001b[1;33m\u001b[0m\u001b[0m\n",
      "\u001b[1;32m~\\anaconda3\\lib\\site-packages\\pandas\\core\\generic.py\u001b[0m in \u001b[0;36mdrop\u001b[1;34m(self, labels, axis, index, columns, level, inplace, errors)\u001b[0m\n\u001b[0;32m   4151\u001b[0m         \u001b[1;32mfor\u001b[0m \u001b[0maxis\u001b[0m\u001b[1;33m,\u001b[0m \u001b[0mlabels\u001b[0m \u001b[1;32min\u001b[0m \u001b[0maxes\u001b[0m\u001b[1;33m.\u001b[0m\u001b[0mitems\u001b[0m\u001b[1;33m(\u001b[0m\u001b[1;33m)\u001b[0m\u001b[1;33m:\u001b[0m\u001b[1;33m\u001b[0m\u001b[1;33m\u001b[0m\u001b[0m\n\u001b[0;32m   4152\u001b[0m             \u001b[1;32mif\u001b[0m \u001b[0mlabels\u001b[0m \u001b[1;32mis\u001b[0m \u001b[1;32mnot\u001b[0m \u001b[1;32mNone\u001b[0m\u001b[1;33m:\u001b[0m\u001b[1;33m\u001b[0m\u001b[1;33m\u001b[0m\u001b[0m\n\u001b[1;32m-> 4153\u001b[1;33m                 \u001b[0mobj\u001b[0m \u001b[1;33m=\u001b[0m \u001b[0mobj\u001b[0m\u001b[1;33m.\u001b[0m\u001b[0m_drop_axis\u001b[0m\u001b[1;33m(\u001b[0m\u001b[0mlabels\u001b[0m\u001b[1;33m,\u001b[0m \u001b[0maxis\u001b[0m\u001b[1;33m,\u001b[0m \u001b[0mlevel\u001b[0m\u001b[1;33m=\u001b[0m\u001b[0mlevel\u001b[0m\u001b[1;33m,\u001b[0m \u001b[0merrors\u001b[0m\u001b[1;33m=\u001b[0m\u001b[0merrors\u001b[0m\u001b[1;33m)\u001b[0m\u001b[1;33m\u001b[0m\u001b[1;33m\u001b[0m\u001b[0m\n\u001b[0m\u001b[0;32m   4154\u001b[0m \u001b[1;33m\u001b[0m\u001b[0m\n\u001b[0;32m   4155\u001b[0m         \u001b[1;32mif\u001b[0m \u001b[0minplace\u001b[0m\u001b[1;33m:\u001b[0m\u001b[1;33m\u001b[0m\u001b[1;33m\u001b[0m\u001b[0m\n",
      "\u001b[1;32m~\\anaconda3\\lib\\site-packages\\pandas\\core\\generic.py\u001b[0m in \u001b[0;36m_drop_axis\u001b[1;34m(self, labels, axis, level, errors)\u001b[0m\n\u001b[0;32m   4186\u001b[0m                 \u001b[0mnew_axis\u001b[0m \u001b[1;33m=\u001b[0m \u001b[0maxis\u001b[0m\u001b[1;33m.\u001b[0m\u001b[0mdrop\u001b[0m\u001b[1;33m(\u001b[0m\u001b[0mlabels\u001b[0m\u001b[1;33m,\u001b[0m \u001b[0mlevel\u001b[0m\u001b[1;33m=\u001b[0m\u001b[0mlevel\u001b[0m\u001b[1;33m,\u001b[0m \u001b[0merrors\u001b[0m\u001b[1;33m=\u001b[0m\u001b[0merrors\u001b[0m\u001b[1;33m)\u001b[0m\u001b[1;33m\u001b[0m\u001b[1;33m\u001b[0m\u001b[0m\n\u001b[0;32m   4187\u001b[0m             \u001b[1;32melse\u001b[0m\u001b[1;33m:\u001b[0m\u001b[1;33m\u001b[0m\u001b[1;33m\u001b[0m\u001b[0m\n\u001b[1;32m-> 4188\u001b[1;33m                 \u001b[0mnew_axis\u001b[0m \u001b[1;33m=\u001b[0m \u001b[0maxis\u001b[0m\u001b[1;33m.\u001b[0m\u001b[0mdrop\u001b[0m\u001b[1;33m(\u001b[0m\u001b[0mlabels\u001b[0m\u001b[1;33m,\u001b[0m \u001b[0merrors\u001b[0m\u001b[1;33m=\u001b[0m\u001b[0merrors\u001b[0m\u001b[1;33m)\u001b[0m\u001b[1;33m\u001b[0m\u001b[1;33m\u001b[0m\u001b[0m\n\u001b[0m\u001b[0;32m   4189\u001b[0m             \u001b[0mresult\u001b[0m \u001b[1;33m=\u001b[0m \u001b[0mself\u001b[0m\u001b[1;33m.\u001b[0m\u001b[0mreindex\u001b[0m\u001b[1;33m(\u001b[0m\u001b[1;33m**\u001b[0m\u001b[1;33m{\u001b[0m\u001b[0maxis_name\u001b[0m\u001b[1;33m:\u001b[0m \u001b[0mnew_axis\u001b[0m\u001b[1;33m}\u001b[0m\u001b[1;33m)\u001b[0m\u001b[1;33m\u001b[0m\u001b[1;33m\u001b[0m\u001b[0m\n\u001b[0;32m   4190\u001b[0m \u001b[1;33m\u001b[0m\u001b[0m\n",
      "\u001b[1;32m~\\anaconda3\\lib\\site-packages\\pandas\\core\\indexes\\base.py\u001b[0m in \u001b[0;36mdrop\u001b[1;34m(self, labels, errors)\u001b[0m\n\u001b[0;32m   5589\u001b[0m         \u001b[1;32mif\u001b[0m \u001b[0mmask\u001b[0m\u001b[1;33m.\u001b[0m\u001b[0many\u001b[0m\u001b[1;33m(\u001b[0m\u001b[1;33m)\u001b[0m\u001b[1;33m:\u001b[0m\u001b[1;33m\u001b[0m\u001b[1;33m\u001b[0m\u001b[0m\n\u001b[0;32m   5590\u001b[0m             \u001b[1;32mif\u001b[0m \u001b[0merrors\u001b[0m \u001b[1;33m!=\u001b[0m \u001b[1;34m\"ignore\"\u001b[0m\u001b[1;33m:\u001b[0m\u001b[1;33m\u001b[0m\u001b[1;33m\u001b[0m\u001b[0m\n\u001b[1;32m-> 5591\u001b[1;33m                 \u001b[1;32mraise\u001b[0m \u001b[0mKeyError\u001b[0m\u001b[1;33m(\u001b[0m\u001b[1;34mf\"{labels[mask]} not found in axis\"\u001b[0m\u001b[1;33m)\u001b[0m\u001b[1;33m\u001b[0m\u001b[1;33m\u001b[0m\u001b[0m\n\u001b[0m\u001b[0;32m   5592\u001b[0m             \u001b[0mindexer\u001b[0m \u001b[1;33m=\u001b[0m \u001b[0mindexer\u001b[0m\u001b[1;33m[\u001b[0m\u001b[1;33m~\u001b[0m\u001b[0mmask\u001b[0m\u001b[1;33m]\u001b[0m\u001b[1;33m\u001b[0m\u001b[1;33m\u001b[0m\u001b[0m\n\u001b[0;32m   5593\u001b[0m         \u001b[1;32mreturn\u001b[0m \u001b[0mself\u001b[0m\u001b[1;33m.\u001b[0m\u001b[0mdelete\u001b[0m\u001b[1;33m(\u001b[0m\u001b[0mindexer\u001b[0m\u001b[1;33m)\u001b[0m\u001b[1;33m\u001b[0m\u001b[1;33m\u001b[0m\u001b[0m\n",
      "\u001b[1;31mKeyError\u001b[0m: '[<function start_pipeline at 0x000001445C658160>] not found in axis'"
     ]
    }
   ],
   "source": [
    "(\n",
    "products\n",
    "    .drop(start_pipeline)\n",
    "    .drop(drop_unrelevant)\n",
    "    .sample(10)\n",
    "\n",
    ")"
   ]
  },
  {
   "cell_type": "markdown",
   "id": "2f1a6897-8853-4bb0-ac22-249a01ca3a60",
   "metadata": {},
   "source": [
    "### from Joan:"
   ]
  },
  {
   "cell_type": "code",
   "execution_count": null,
   "id": "37423e4c-8e08-4643-b4f4-2a03a3c76e42",
   "metadata": {},
   "outputs": [],
   "source": [
    "def common_orders(orders, orderlines): \n",
    "    return (orders\n",
    "            .assign(order_check = orders['order_id'].isin(orderlines['id_order']))\n",
    "            .query('order_check == True')\n",
    "            ['order_id'].tolist())\n",
    "\n",
    "def select_common_orders(data, orders_list: list):\n",
    "    if 'order_id' in data.columns: \n",
    "        data.rename(columns={'order_id':'id_order'}, inplace=True)\n",
    "    data_filtered = data.query('id_order == @orders_list')\n",
    "    print(\n",
    "        f\"\"\"\n",
    "        Total {data_filtered.shape[0]} rows included over the original {data.shape[0]} rows.\\n\n",
    "        Kept the {round((data_filtered.shape[0] / data.shape[0])*100, 2)}% of the data.\n",
    "        \"\"\")\n",
    "    return data_filtered    \n",
    "\n",
    "(\n",
    "orders\n",
    "    .pipe(start_pipeline)\n",
    "    .pipe(set_types_orders)\n",
    "    .dropna()\n",
    "    .pipe(select_common_orders, orders_list=common_orders(orders, orderlines))\n",
    ")"
   ]
  },
  {
   "cell_type": "code",
   "execution_count": null,
   "id": "4460f268-9e4e-4d90-8c7e-ae2a63ce3d6d",
   "metadata": {},
   "outputs": [],
   "source": []
  },
  {
   "cell_type": "code",
   "execution_count": null,
   "id": "cb203b7d-a147-494f-ac59-713c42321ab4",
   "metadata": {},
   "outputs": [],
   "source": []
  }
 ],
 "metadata": {
  "kernelspec": {
   "display_name": "Python 3",
   "language": "python",
   "name": "python3"
  },
  "language_info": {
   "codemirror_mode": {
    "name": "ipython",
    "version": 3
   },
   "file_extension": ".py",
   "mimetype": "text/x-python",
   "name": "python",
   "nbconvert_exporter": "python",
   "pygments_lexer": "ipython3",
   "version": "3.8.8"
  }
 },
 "nbformat": 4,
 "nbformat_minor": 5
}

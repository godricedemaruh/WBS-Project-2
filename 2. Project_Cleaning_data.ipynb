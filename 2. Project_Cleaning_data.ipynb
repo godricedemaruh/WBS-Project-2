{
 "cells": [
  {
   "cell_type": "code",
   "execution_count": 5,
   "id": "ddc4da9d-98f9-44ee-bbb1-0e191575d5ff",
   "metadata": {},
   "outputs": [],
   "source": [
    "import pandas as pd"
   ]
  },
  {
   "cell_type": "code",
   "execution_count": 2,
   "id": "91d3c2e4-38dc-4592-a678-a1b97cb177cf",
   "metadata": {},
   "outputs": [],
   "source": [
    "# import glob"
   ]
  },
  {
   "cell_type": "code",
   "execution_count": 5,
   "id": "6a85bc37-1b8f-41ce-b554-2d40f960aa71",
   "metadata": {},
   "outputs": [],
   "source": [
    "# files = glob.glob(\"eniac-data-default/*.csv\")\n",
    " \n",
    "# df_list = []\n",
    "# for filename in files:\n",
    "#   data = pd.read_csv(filename)\n",
    "#   df_list.append(data)\n",
    " \n",
    "# df = pd.concat(df_list)"
   ]
  },
  {
   "cell_type": "code",
   "execution_count": 6,
   "id": "55e49f02-c786-4ba2-bf9c-71298dfef62c",
   "metadata": {},
   "outputs": [],
   "source": [
    "orders = pd.read_csv(\"eniac-data-default/orders.csv\")\n",
    "orderlines = pd.read_csv(\"eniac-data-default/orderlines.csv\")\n",
    "products = pd.read_csv(\"eniac-data-default/products.csv\")\n",
    "brands = pd.read_csv(\"eniac-data-default/brands.csv\")"
   ]
  },
  {
   "cell_type": "code",
   "execution_count": 13,
   "id": "305e159b-25fc-467c-97f6-087efe1cc599",
   "metadata": {},
   "outputs": [
    {
     "data": {
      "text/plain": [
       "order_id        0\n",
       "created_date    0\n",
       "total_paid      5\n",
       "state           0\n",
       "dtype: int64"
      ]
     },
     "execution_count": 13,
     "metadata": {},
     "output_type": "execute_result"
    }
   ],
   "source": [
    "orders.isna().sum()"
   ]
  },
  {
   "cell_type": "code",
   "execution_count": 15,
   "id": "97aa5788-88d2-4b71-acbe-cdb58872d217",
   "metadata": {},
   "outputs": [
    {
     "name": "stdout",
     "output_type": "stream",
     "text": [
      "<class 'pandas.core.frame.DataFrame'>\n",
      "RangeIndex: 226909 entries, 0 to 226908\n",
      "Data columns (total 4 columns):\n",
      " #   Column        Non-Null Count   Dtype  \n",
      "---  ------        --------------   -----  \n",
      " 0   order_id      226909 non-null  int64  \n",
      " 1   created_date  226909 non-null  object \n",
      " 2   total_paid    226904 non-null  float64\n",
      " 3   state         226909 non-null  object \n",
      "dtypes: float64(1), int64(1), object(2)\n",
      "memory usage: 6.9+ MB\n"
     ]
    }
   ],
   "source": [
    "orders.info()"
   ]
  },
  {
   "cell_type": "markdown",
   "id": "df701f74-97cb-4acd-87e9-e4bdd3c90bcc",
   "metadata": {},
   "source": [
    "## orders pipeline"
   ]
  },
  {
   "cell_type": "code",
   "execution_count": 17,
   "id": "033ad510-a4be-4916-8f18-4f37fe970fad",
   "metadata": {},
   "outputs": [],
   "source": [
    "def start_pipeline(data): \n",
    "    return data.copy()\n",
    "\n",
    "def set_types_orders(data): \n",
    "    return data.assign(created_date = pd.to_datetime(data['created_date']))\n",
    "\n",
    "def remove_NaN_orders(data):\n",
    "    return data.dropna()"
   ]
  },
  {
   "cell_type": "code",
   "execution_count": 31,
   "id": "494101ed-f9d4-4800-b8b9-9c6be6d9062e",
   "metadata": {},
   "outputs": [
    {
     "data": {
      "text/html": [
       "<div>\n",
       "<style scoped>\n",
       "    .dataframe tbody tr th:only-of-type {\n",
       "        vertical-align: middle;\n",
       "    }\n",
       "\n",
       "    .dataframe tbody tr th {\n",
       "        vertical-align: top;\n",
       "    }\n",
       "\n",
       "    .dataframe thead th {\n",
       "        text-align: right;\n",
       "    }\n",
       "</style>\n",
       "<table border=\"1\" class=\"dataframe\">\n",
       "  <thead>\n",
       "    <tr style=\"text-align: right;\">\n",
       "      <th></th>\n",
       "      <th>order_id</th>\n",
       "      <th>created_date</th>\n",
       "      <th>total_paid</th>\n",
       "      <th>state</th>\n",
       "    </tr>\n",
       "  </thead>\n",
       "  <tbody>\n",
       "    <tr>\n",
       "      <th>37187</th>\n",
       "      <td>336671</td>\n",
       "      <td>2017-03-19 09:15:17</td>\n",
       "      <td>115.97</td>\n",
       "      <td>Pending</td>\n",
       "    </tr>\n",
       "    <tr>\n",
       "      <th>58818</th>\n",
       "      <td>358356</td>\n",
       "      <td>2017-05-23 13:36:27</td>\n",
       "      <td>98.99</td>\n",
       "      <td>Pending</td>\n",
       "    </tr>\n",
       "    <tr>\n",
       "      <th>25514</th>\n",
       "      <td>324994</td>\n",
       "      <td>2017-02-16 00:09:56</td>\n",
       "      <td>64.97</td>\n",
       "      <td>Shopping Basket</td>\n",
       "    </tr>\n",
       "    <tr>\n",
       "      <th>161868</th>\n",
       "      <td>462128</td>\n",
       "      <td>2017-12-13 19:15:19</td>\n",
       "      <td>0.00</td>\n",
       "      <td>Shopping Basket</td>\n",
       "    </tr>\n",
       "    <tr>\n",
       "      <th>161028</th>\n",
       "      <td>461286</td>\n",
       "      <td>2017-12-13 00:15:08</td>\n",
       "      <td>734.00</td>\n",
       "      <td>Shopping Basket</td>\n",
       "    </tr>\n",
       "  </tbody>\n",
       "</table>\n",
       "</div>"
      ],
      "text/plain": [
       "        order_id        created_date  total_paid            state\n",
       "37187     336671 2017-03-19 09:15:17      115.97          Pending\n",
       "58818     358356 2017-05-23 13:36:27       98.99          Pending\n",
       "25514     324994 2017-02-16 00:09:56       64.97  Shopping Basket\n",
       "161868    462128 2017-12-13 19:15:19        0.00  Shopping Basket\n",
       "161028    461286 2017-12-13 00:15:08      734.00  Shopping Basket"
      ]
     },
     "execution_count": 31,
     "metadata": {},
     "output_type": "execute_result"
    }
   ],
   "source": [
    "orders.pipe(start_pipeline).pipe(set_types_orders).pipe(remove_NaN_orders).sample(5)"
   ]
  },
  {
   "cell_type": "code",
   "execution_count": 25,
   "id": "b23b4d83-2b0a-43b7-8751-f4f50e344ed0",
   "metadata": {},
   "outputs": [
    {
     "data": {
      "text/plain": [
       "False    226909\n",
       "dtype: int64"
      ]
     },
     "execution_count": 25,
     "metadata": {},
     "output_type": "execute_result"
    }
   ],
   "source": [
    "orders.duplicated().value_counts()"
   ]
  },
  {
   "cell_type": "markdown",
   "id": "c7bb7f2e-4424-4f2b-ad95-0793ba990a64",
   "metadata": {},
   "source": [
    "## orderlines pipeline"
   ]
  },
  {
   "cell_type": "code",
   "execution_count": 40,
   "id": "07fc0900-5a73-4e91-829f-f653ba7f9522",
   "metadata": {},
   "outputs": [
    {
     "data": {
      "text/plain": [
       "135724       51.99\n",
       "101607       82.99\n",
       "108265       15.90\n",
       "261491      158.99\n",
       "182813      154.99\n",
       "109766    2.304.60\n",
       "42484        59.00\n",
       "101527       30.92\n",
       "241308      239.00\n",
       "231227       64.99\n",
       "Name: unit_price, dtype: object"
      ]
     },
     "execution_count": 40,
     "metadata": {},
     "output_type": "execute_result"
    }
   ],
   "source": [
    "orderlines.unit_price.sample(10)"
   ]
  },
  {
   "cell_type": "code",
   "execution_count": 32,
   "id": "846d1a21-4c8f-4b70-bc7f-fac50d189ecf",
   "metadata": {},
   "outputs": [],
   "source": [
    "def start_pipeline(data): \n",
    "    return data.copy()\n",
    "\n",
    "def rename_id_o(data):\n",
    "    return data.rename(columns={'id_order':'order_id'})\n",
    "\n",
    "def set_types_orders(data): \n",
    "    return data.assign(date = pd.to_datetime(data['date']))\n",
    "\n",
    "def remove_dots(data):\n",
    "    return data.assign(price_nd = data['unit_price'].str.replace('\\.','', regex=True))\n",
    "\n",
    "def split_price(data):\n",
    "    return (data\n",
    "        .assign(euro = data['price_nd'].str[:-2])\n",
    "        .assign(cent = data['price_nd'].str[-2:])\n",
    "    )\n",
    "\n",
    "def merge_price(data):\n",
    "    return data.assign(price_per_unit = data['euro'] + '.' + data['cent'])\n",
    "\n",
    "def set_type_price(data): \n",
    "    return data.assign(price_per_unit = pd.to_numeric(data['price_per_unit']))\n",
    "\n",
    "def drop_unrelevant(data):\n",
    "    return data.drop(columns = {'unit_price', 'price_nd', 'euro', 'cent', 'product_id'})\n",
    "\n",
    "def rename_price(data):\n",
    "    return data.rename(columns={'price_per_unit':'unit_price'})"
   ]
  },
  {
   "cell_type": "code",
   "execution_count": 33,
   "id": "77d2184f-61bf-4d9e-9338-3eee5b4e0a24",
   "metadata": {},
   "outputs": [
    {
     "data": {
      "text/html": [
       "<div>\n",
       "<style scoped>\n",
       "    .dataframe tbody tr th:only-of-type {\n",
       "        vertical-align: middle;\n",
       "    }\n",
       "\n",
       "    .dataframe tbody tr th {\n",
       "        vertical-align: top;\n",
       "    }\n",
       "\n",
       "    .dataframe thead th {\n",
       "        text-align: right;\n",
       "    }\n",
       "</style>\n",
       "<table border=\"1\" class=\"dataframe\">\n",
       "  <thead>\n",
       "    <tr style=\"text-align: right;\">\n",
       "      <th></th>\n",
       "      <th>id</th>\n",
       "      <th>order_id</th>\n",
       "      <th>product_quantity</th>\n",
       "      <th>sku</th>\n",
       "      <th>date</th>\n",
       "      <th>unit_price</th>\n",
       "    </tr>\n",
       "  </thead>\n",
       "  <tbody>\n",
       "    <tr>\n",
       "      <th>85531</th>\n",
       "      <td>1283386</td>\n",
       "      <td>373123</td>\n",
       "      <td>1</td>\n",
       "      <td>QNA0213</td>\n",
       "      <td>2017-07-05 15:17:07</td>\n",
       "      <td>1570.99</td>\n",
       "    </tr>\n",
       "    <tr>\n",
       "      <th>265692</th>\n",
       "      <td>1604820</td>\n",
       "      <td>507725</td>\n",
       "      <td>1</td>\n",
       "      <td>MMW0016</td>\n",
       "      <td>2018-02-07 18:40:36</td>\n",
       "      <td>22.99</td>\n",
       "    </tr>\n",
       "    <tr>\n",
       "      <th>271942</th>\n",
       "      <td>1614766</td>\n",
       "      <td>511949</td>\n",
       "      <td>2</td>\n",
       "      <td>GTE0071</td>\n",
       "      <td>2018-02-15 11:29:29</td>\n",
       "      <td>23.75</td>\n",
       "    </tr>\n",
       "    <tr>\n",
       "      <th>205543</th>\n",
       "      <td>1502431</td>\n",
       "      <td>465626</td>\n",
       "      <td>1</td>\n",
       "      <td>APP1785</td>\n",
       "      <td>2017-12-18 12:54:58</td>\n",
       "      <td>269.00</td>\n",
       "    </tr>\n",
       "    <tr>\n",
       "      <th>136977</th>\n",
       "      <td>1388869</td>\n",
       "      <td>417826</td>\n",
       "      <td>1</td>\n",
       "      <td>APP1922</td>\n",
       "      <td>2017-10-25 22:31:44</td>\n",
       "      <td>169.00</td>\n",
       "    </tr>\n",
       "    <tr>\n",
       "      <th>276211</th>\n",
       "      <td>1622149</td>\n",
       "      <td>515247</td>\n",
       "      <td>1</td>\n",
       "      <td>SYN0152</td>\n",
       "      <td>2018-02-21 09:25:59</td>\n",
       "      <td>3356.99</td>\n",
       "    </tr>\n",
       "    <tr>\n",
       "      <th>52812</th>\n",
       "      <td>1226328</td>\n",
       "      <td>345336</td>\n",
       "      <td>1</td>\n",
       "      <td>LAC0182</td>\n",
       "      <td>2017-04-11 11:14:57</td>\n",
       "      <td>181.79</td>\n",
       "    </tr>\n",
       "    <tr>\n",
       "      <th>12776</th>\n",
       "      <td>1149888</td>\n",
       "      <td>310595</td>\n",
       "      <td>1</td>\n",
       "      <td>PAC1504</td>\n",
       "      <td>2017-01-17 17:21:25</td>\n",
       "      <td>25.99</td>\n",
       "    </tr>\n",
       "    <tr>\n",
       "      <th>82462</th>\n",
       "      <td>1278124</td>\n",
       "      <td>370520</td>\n",
       "      <td>1</td>\n",
       "      <td>PAC2062</td>\n",
       "      <td>2017-06-30 00:25:27</td>\n",
       "      <td>329.00</td>\n",
       "    </tr>\n",
       "    <tr>\n",
       "      <th>200920</th>\n",
       "      <td>1494404</td>\n",
       "      <td>462066</td>\n",
       "      <td>1</td>\n",
       "      <td>MOS0203</td>\n",
       "      <td>2017-12-13 18:01:36</td>\n",
       "      <td>32.99</td>\n",
       "    </tr>\n",
       "  </tbody>\n",
       "</table>\n",
       "</div>"
      ],
      "text/plain": [
       "             id  order_id  product_quantity      sku                date  \\\n",
       "85531   1283386    373123                 1  QNA0213 2017-07-05 15:17:07   \n",
       "265692  1604820    507725                 1  MMW0016 2018-02-07 18:40:36   \n",
       "271942  1614766    511949                 2  GTE0071 2018-02-15 11:29:29   \n",
       "205543  1502431    465626                 1  APP1785 2017-12-18 12:54:58   \n",
       "136977  1388869    417826                 1  APP1922 2017-10-25 22:31:44   \n",
       "276211  1622149    515247                 1  SYN0152 2018-02-21 09:25:59   \n",
       "52812   1226328    345336                 1  LAC0182 2017-04-11 11:14:57   \n",
       "12776   1149888    310595                 1  PAC1504 2017-01-17 17:21:25   \n",
       "82462   1278124    370520                 1  PAC2062 2017-06-30 00:25:27   \n",
       "200920  1494404    462066                 1  MOS0203 2017-12-13 18:01:36   \n",
       "\n",
       "        unit_price  \n",
       "85531      1570.99  \n",
       "265692       22.99  \n",
       "271942       23.75  \n",
       "205543      269.00  \n",
       "136977      169.00  \n",
       "276211     3356.99  \n",
       "52812       181.79  \n",
       "12776        25.99  \n",
       "82462       329.00  \n",
       "200920       32.99  "
      ]
     },
     "execution_count": 33,
     "metadata": {},
     "output_type": "execute_result"
    }
   ],
   "source": [
    "(\n",
    "orderlines\n",
    "    .pipe(start_pipeline)\n",
    "    .pipe(rename_id_o)\n",
    "    .pipe(set_types_orders)\n",
    "    .pipe(remove_dots)\n",
    "    .pipe(split_price)\n",
    "    .pipe(merge_price)\n",
    "    .pipe(set_type_price)\n",
    "    .pipe(drop_unrelevant)\n",
    "    .pipe(rename_price)\n",
    "    .sample(10)\n",
    ")"
   ]
  },
  {
   "cell_type": "markdown",
   "id": "92254ddd-69f1-4ec8-bd43-82593a1f1d7d",
   "metadata": {},
   "source": [
    "## products pipeline"
   ]
  },
  {
   "cell_type": "code",
   "execution_count": 53,
   "id": "b7e6a11b-87cc-4e0a-896c-01ae86f2d931",
   "metadata": {},
   "outputs": [
    {
     "data": {
      "text/plain": [
       "False    10580\n",
       "True      8746\n",
       "dtype: int64"
      ]
     },
     "execution_count": 53,
     "metadata": {},
     "output_type": "execute_result"
    }
   ],
   "source": [
    "products.duplicated().value_counts()"
   ]
  },
  {
   "cell_type": "code",
   "execution_count": 52,
   "id": "632f8a2f-f80d-4daf-9eff-6493ba7c3bf1",
   "metadata": {},
   "outputs": [
    {
     "data": {
      "text/html": [
       "<div>\n",
       "<style scoped>\n",
       "    .dataframe tbody tr th:only-of-type {\n",
       "        vertical-align: middle;\n",
       "    }\n",
       "\n",
       "    .dataframe tbody tr th {\n",
       "        vertical-align: top;\n",
       "    }\n",
       "\n",
       "    .dataframe thead th {\n",
       "        text-align: right;\n",
       "    }\n",
       "</style>\n",
       "<table border=\"1\" class=\"dataframe\">\n",
       "  <thead>\n",
       "    <tr style=\"text-align: right;\">\n",
       "      <th></th>\n",
       "      <th>sku</th>\n",
       "      <th>name</th>\n",
       "      <th>desc</th>\n",
       "      <th>price</th>\n",
       "      <th>promo_price</th>\n",
       "      <th>in_stock</th>\n",
       "      <th>type</th>\n",
       "    </tr>\n",
       "  </thead>\n",
       "  <tbody>\n",
       "    <tr>\n",
       "      <th>100</th>\n",
       "      <td>APP0390</td>\n",
       "      <td>Apple MacBook Pro 133 \"Core i5 25GHz | 4GB RAM...</td>\n",
       "      <td>MacBook Pro laptop 133 inches (MD101Y / A).</td>\n",
       "      <td>1199</td>\n",
       "      <td>11.455.917</td>\n",
       "      <td>0</td>\n",
       "      <td>1282</td>\n",
       "    </tr>\n",
       "    <tr>\n",
       "      <th>101</th>\n",
       "      <td>APP0390</td>\n",
       "      <td>Apple MacBook Pro 133 \"Core i5 25GHz | 4GB RAM...</td>\n",
       "      <td>MacBook Pro laptop 133 inches (MD101Y / A).</td>\n",
       "      <td>1199</td>\n",
       "      <td>11.455.917</td>\n",
       "      <td>0</td>\n",
       "      <td>1282</td>\n",
       "    </tr>\n",
       "    <tr>\n",
       "      <th>102</th>\n",
       "      <td>APP0390</td>\n",
       "      <td>Apple MacBook Pro 133 \"Core i5 25GHz | 4GB RAM...</td>\n",
       "      <td>MacBook Pro laptop 133 inches (MD101Y / A).</td>\n",
       "      <td>1199</td>\n",
       "      <td>11.455.917</td>\n",
       "      <td>0</td>\n",
       "      <td>1282</td>\n",
       "    </tr>\n",
       "    <tr>\n",
       "      <th>103</th>\n",
       "      <td>APP0390</td>\n",
       "      <td>Apple MacBook Pro 133 \"Core i5 25GHz | 4GB RAM...</td>\n",
       "      <td>MacBook Pro laptop 133 inches (MD101Y / A).</td>\n",
       "      <td>1199</td>\n",
       "      <td>11.455.917</td>\n",
       "      <td>0</td>\n",
       "      <td>1282</td>\n",
       "    </tr>\n",
       "    <tr>\n",
       "      <th>104</th>\n",
       "      <td>APP0390</td>\n",
       "      <td>Apple MacBook Pro 133 \"Core i5 25GHz | 4GB RAM...</td>\n",
       "      <td>MacBook Pro laptop 133 inches (MD101Y / A).</td>\n",
       "      <td>1199</td>\n",
       "      <td>11.455.917</td>\n",
       "      <td>0</td>\n",
       "      <td>1282</td>\n",
       "    </tr>\n",
       "    <tr>\n",
       "      <th>...</th>\n",
       "      <td>...</td>\n",
       "      <td>...</td>\n",
       "      <td>...</td>\n",
       "      <td>...</td>\n",
       "      <td>...</td>\n",
       "      <td>...</td>\n",
       "      <td>...</td>\n",
       "    </tr>\n",
       "    <tr>\n",
       "      <th>18190</th>\n",
       "      <td>PAR0077</td>\n",
       "      <td>Parrot Bebop Drone 2 Power</td>\n",
       "      <td>Drone cuadricóptero quality camera integrated ...</td>\n",
       "      <td>699.9</td>\n",
       "      <td>6.733.892</td>\n",
       "      <td>0</td>\n",
       "      <td>11905404</td>\n",
       "    </tr>\n",
       "    <tr>\n",
       "      <th>18307</th>\n",
       "      <td>NKI0010</td>\n",
       "      <td>Nokia Wireless sphygmomanometer Plata</td>\n",
       "      <td>Sphygmomanometer for iPhone iPad and iPod App.</td>\n",
       "      <td>129.99</td>\n",
       "      <td>1.149.899</td>\n",
       "      <td>1</td>\n",
       "      <td>11905404</td>\n",
       "    </tr>\n",
       "    <tr>\n",
       "      <th>18308</th>\n",
       "      <td>NKI0010</td>\n",
       "      <td>Nokia Wireless sphygmomanometer Plata</td>\n",
       "      <td>Sphygmomanometer for iPhone iPad and iPod App.</td>\n",
       "      <td>129.99</td>\n",
       "      <td>1.149.899</td>\n",
       "      <td>1</td>\n",
       "      <td>11905404</td>\n",
       "    </tr>\n",
       "    <tr>\n",
       "      <th>18513</th>\n",
       "      <td>PLA0035</td>\n",
       "      <td>Bluetooth Headset Plantronics Explorer 80</td>\n",
       "      <td>egonómico wireless headset design for iPhone i...</td>\n",
       "      <td>39.99</td>\n",
       "      <td>349.896</td>\n",
       "      <td>1</td>\n",
       "      <td>5384</td>\n",
       "    </tr>\n",
       "    <tr>\n",
       "      <th>18514</th>\n",
       "      <td>PLA0035</td>\n",
       "      <td>Bluetooth Headset Plantronics Explorer 80</td>\n",
       "      <td>egonómico wireless headset design for iPhone i...</td>\n",
       "      <td>39.99</td>\n",
       "      <td>349.896</td>\n",
       "      <td>1</td>\n",
       "      <td>5384</td>\n",
       "    </tr>\n",
       "  </tbody>\n",
       "</table>\n",
       "<p>9503 rows × 7 columns</p>\n",
       "</div>"
      ],
      "text/plain": [
       "           sku                                               name  \\\n",
       "100    APP0390  Apple MacBook Pro 133 \"Core i5 25GHz | 4GB RAM...   \n",
       "101    APP0390  Apple MacBook Pro 133 \"Core i5 25GHz | 4GB RAM...   \n",
       "102    APP0390  Apple MacBook Pro 133 \"Core i5 25GHz | 4GB RAM...   \n",
       "103    APP0390  Apple MacBook Pro 133 \"Core i5 25GHz | 4GB RAM...   \n",
       "104    APP0390  Apple MacBook Pro 133 \"Core i5 25GHz | 4GB RAM...   \n",
       "...        ...                                                ...   \n",
       "18190  PAR0077                         Parrot Bebop Drone 2 Power   \n",
       "18307  NKI0010              Nokia Wireless sphygmomanometer Plata   \n",
       "18308  NKI0010              Nokia Wireless sphygmomanometer Plata   \n",
       "18513  PLA0035          Bluetooth Headset Plantronics Explorer 80   \n",
       "18514  PLA0035          Bluetooth Headset Plantronics Explorer 80   \n",
       "\n",
       "                                                    desc   price promo_price  \\\n",
       "100          MacBook Pro laptop 133 inches (MD101Y / A).    1199  11.455.917   \n",
       "101          MacBook Pro laptop 133 inches (MD101Y / A).    1199  11.455.917   \n",
       "102          MacBook Pro laptop 133 inches (MD101Y / A).    1199  11.455.917   \n",
       "103          MacBook Pro laptop 133 inches (MD101Y / A).    1199  11.455.917   \n",
       "104          MacBook Pro laptop 133 inches (MD101Y / A).    1199  11.455.917   \n",
       "...                                                  ...     ...         ...   \n",
       "18190  Drone cuadricóptero quality camera integrated ...   699.9   6.733.892   \n",
       "18307     Sphygmomanometer for iPhone iPad and iPod App.  129.99   1.149.899   \n",
       "18308     Sphygmomanometer for iPhone iPad and iPod App.  129.99   1.149.899   \n",
       "18513  egonómico wireless headset design for iPhone i...   39.99     349.896   \n",
       "18514  egonómico wireless headset design for iPhone i...   39.99     349.896   \n",
       "\n",
       "       in_stock      type  \n",
       "100           0      1282  \n",
       "101           0      1282  \n",
       "102           0      1282  \n",
       "103           0      1282  \n",
       "104           0      1282  \n",
       "...         ...       ...  \n",
       "18190         0  11905404  \n",
       "18307         1  11905404  \n",
       "18308         1  11905404  \n",
       "18513         1      5384  \n",
       "18514         1      5384  \n",
       "\n",
       "[9503 rows x 7 columns]"
      ]
     },
     "execution_count": 52,
     "metadata": {},
     "output_type": "execute_result"
    }
   ],
   "source": [
    "products[products.duplicated(keep=False)]"
   ]
  },
  {
   "cell_type": "code",
   "execution_count": null,
   "id": "c9149361-c5e7-4e1b-9771-d4d91adf118c",
   "metadata": {},
   "outputs": [],
   "source": [
    "def start_pipeline(data): \n",
    "    return data.copy()\n",
    "\n",
    "def drop_unrelevant(data):\n",
    "    return data.drop(columns = {'in_stock', 'type'})\n"
   ]
  },
  {
   "cell_type": "code",
   "execution_count": null,
   "id": "220c0eb2-698e-4073-9013-3052675bc375",
   "metadata": {},
   "outputs": [],
   "source": []
  },
  {
   "cell_type": "markdown",
   "id": "2f1a6897-8853-4bb0-ac22-249a01ca3a60",
   "metadata": {},
   "source": [
    "### from Joan:"
   ]
  },
  {
   "cell_type": "code",
   "execution_count": null,
   "id": "37423e4c-8e08-4643-b4f4-2a03a3c76e42",
   "metadata": {},
   "outputs": [],
   "source": [
    "def common_orders(orders, orderlines): \n",
    "    return (orders\n",
    "            .assign(order_check = orders['order_id'].isin(orderlines['id_order']))\n",
    "            .query('order_check == True')\n",
    "            ['order_id'].tolist())\n",
    "\n",
    "def select_common_orders(data, orders_list: list):\n",
    "    if 'order_id' in data.columns: \n",
    "        data.rename(columns={'order_id':'id_order'}, inplace=True)\n",
    "    data_filtered = data.query('id_order == @orders_list')\n",
    "    print(\n",
    "        f\"\"\"\n",
    "        Total {data_filtered.shape[0]} rows included over the original {data.shape[0]} rows.\\n\n",
    "        Kept the {round((data_filtered.shape[0] / data.shape[0])*100, 2)}% of the data.\n",
    "        \"\"\")\n",
    "    return data_filtered    \n",
    "\n",
    "(\n",
    "orders\n",
    "    .pipe(start_pipeline)\n",
    "    .pipe(set_types_orders)\n",
    "    .dropna()\n",
    "    .pipe(select_common_orders, orders_list=common_orders(orders, orderlines))\n",
    ")"
   ]
  },
  {
   "cell_type": "code",
   "execution_count": null,
   "id": "4460f268-9e4e-4d90-8c7e-ae2a63ce3d6d",
   "metadata": {},
   "outputs": [],
   "source": []
  },
  {
   "cell_type": "code",
   "execution_count": null,
   "id": "cb203b7d-a147-494f-ac59-713c42321ab4",
   "metadata": {},
   "outputs": [],
   "source": []
  }
 ],
 "metadata": {
  "kernelspec": {
   "display_name": "Python 3",
   "language": "python",
   "name": "python3"
  },
  "language_info": {
   "codemirror_mode": {
    "name": "ipython",
    "version": 3
   },
   "file_extension": ".py",
   "mimetype": "text/x-python",
   "name": "python",
   "nbconvert_exporter": "python",
   "pygments_lexer": "ipython3",
   "version": "3.8.8"
  }
 },
 "nbformat": 4,
 "nbformat_minor": 5
}
